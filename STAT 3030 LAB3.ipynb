{
 "cells": [
  {
   "cell_type": "code",
   "execution_count": 1,
   "id": "2a916932",
   "metadata": {},
   "outputs": [],
   "source": [
    "import pandas as pd"
   ]
  },
  {
   "cell_type": "code",
   "execution_count": 2,
   "id": "6642c0c8",
   "metadata": {},
   "outputs": [],
   "source": [
    "dataset = pd.read_csv('df.csv')"
   ]
  },
  {
   "cell_type": "code",
   "execution_count": 3,
   "id": "0f3b5c10",
   "metadata": {},
   "outputs": [
    {
     "data": {
      "text/html": [
       "<div>\n",
       "<style scoped>\n",
       "    .dataframe tbody tr th:only-of-type {\n",
       "        vertical-align: middle;\n",
       "    }\n",
       "\n",
       "    .dataframe tbody tr th {\n",
       "        vertical-align: top;\n",
       "    }\n",
       "\n",
       "    .dataframe thead th {\n",
       "        text-align: right;\n",
       "    }\n",
       "</style>\n",
       "<table border=\"1\" class=\"dataframe\">\n",
       "  <thead>\n",
       "    <tr style=\"text-align: right;\">\n",
       "      <th></th>\n",
       "      <th>Unnamed: 0</th>\n",
       "      <th>Ratio1</th>\n",
       "      <th>Ratio2</th>\n",
       "      <th>Cities</th>\n",
       "      <th>Weight</th>\n",
       "      <th>Sex</th>\n",
       "      <th>Size</th>\n",
       "      <th>Class</th>\n",
       "      <th>Final</th>\n",
       "    </tr>\n",
       "  </thead>\n",
       "  <tbody>\n",
       "    <tr>\n",
       "      <th>0</th>\n",
       "      <td>0</td>\n",
       "      <td>0.778647</td>\n",
       "      <td>1.447931</td>\n",
       "      <td>AL</td>\n",
       "      <td>0.593268</td>\n",
       "      <td>Male</td>\n",
       "      <td>0.186614</td>\n",
       "      <td>Junior</td>\n",
       "      <td>4</td>\n",
       "    </tr>\n",
       "    <tr>\n",
       "      <th>1</th>\n",
       "      <td>1</td>\n",
       "      <td>0.789195</td>\n",
       "      <td>0.253439</td>\n",
       "      <td>GA</td>\n",
       "      <td>0.364454</td>\n",
       "      <td>Female</td>\n",
       "      <td>0.724792</td>\n",
       "      <td>Senior</td>\n",
       "      <td>7</td>\n",
       "    </tr>\n",
       "    <tr>\n",
       "      <th>2</th>\n",
       "      <td>2</td>\n",
       "      <td>0.809848</td>\n",
       "      <td>-2.182158</td>\n",
       "      <td>KT</td>\n",
       "      <td>0.147445</td>\n",
       "      <td>Female</td>\n",
       "      <td>0.402979</td>\n",
       "      <td>Freshman</td>\n",
       "      <td>8</td>\n",
       "    </tr>\n",
       "    <tr>\n",
       "      <th>3</th>\n",
       "      <td>3</td>\n",
       "      <td>0.375377</td>\n",
       "      <td>0.966336</td>\n",
       "      <td>AL</td>\n",
       "      <td>0.770643</td>\n",
       "      <td>Female</td>\n",
       "      <td>0.724218</td>\n",
       "      <td>Junior</td>\n",
       "      <td>7</td>\n",
       "    </tr>\n",
       "    <tr>\n",
       "      <th>4</th>\n",
       "      <td>4</td>\n",
       "      <td>0.655383</td>\n",
       "      <td>0.070015</td>\n",
       "      <td>GA</td>\n",
       "      <td>0.013963</td>\n",
       "      <td>Male</td>\n",
       "      <td>0.498973</td>\n",
       "      <td>Senior</td>\n",
       "      <td>7</td>\n",
       "    </tr>\n",
       "  </tbody>\n",
       "</table>\n",
       "</div>"
      ],
      "text/plain": [
       "   Unnamed: 0    Ratio1    Ratio2 Cities    Weight     Sex      Size  \\\n",
       "0           0  0.778647  1.447931     AL  0.593268    Male  0.186614   \n",
       "1           1  0.789195  0.253439     GA  0.364454  Female  0.724792   \n",
       "2           2  0.809848 -2.182158     KT  0.147445  Female  0.402979   \n",
       "3           3  0.375377  0.966336     AL  0.770643  Female  0.724218   \n",
       "4           4  0.655383  0.070015     GA  0.013963    Male  0.498973   \n",
       "\n",
       "      Class  Final  \n",
       "0    Junior      4  \n",
       "1    Senior      7  \n",
       "2  Freshman      8  \n",
       "3    Junior      7  \n",
       "4    Senior      7  "
      ]
     },
     "execution_count": 3,
     "metadata": {},
     "output_type": "execute_result"
    }
   ],
   "source": [
    "dataset.head()"
   ]
  },
  {
   "cell_type": "code",
   "execution_count": 4,
   "id": "53e6a017",
   "metadata": {},
   "outputs": [
    {
     "data": {
      "text/html": [
       "<div>\n",
       "<style scoped>\n",
       "    .dataframe tbody tr th:only-of-type {\n",
       "        vertical-align: middle;\n",
       "    }\n",
       "\n",
       "    .dataframe tbody tr th {\n",
       "        vertical-align: top;\n",
       "    }\n",
       "\n",
       "    .dataframe thead th {\n",
       "        text-align: right;\n",
       "    }\n",
       "</style>\n",
       "<table border=\"1\" class=\"dataframe\">\n",
       "  <thead>\n",
       "    <tr style=\"text-align: right;\">\n",
       "      <th></th>\n",
       "      <th>Weight</th>\n",
       "      <th>Sex</th>\n",
       "    </tr>\n",
       "  </thead>\n",
       "  <tbody>\n",
       "    <tr>\n",
       "      <th>0</th>\n",
       "      <td>0.593268</td>\n",
       "      <td>Male</td>\n",
       "    </tr>\n",
       "    <tr>\n",
       "      <th>1</th>\n",
       "      <td>0.364454</td>\n",
       "      <td>Female</td>\n",
       "    </tr>\n",
       "    <tr>\n",
       "      <th>2</th>\n",
       "      <td>0.147445</td>\n",
       "      <td>Female</td>\n",
       "    </tr>\n",
       "    <tr>\n",
       "      <th>3</th>\n",
       "      <td>0.770643</td>\n",
       "      <td>Female</td>\n",
       "    </tr>\n",
       "    <tr>\n",
       "      <th>4</th>\n",
       "      <td>0.013963</td>\n",
       "      <td>Male</td>\n",
       "    </tr>\n",
       "  </tbody>\n",
       "</table>\n",
       "</div>"
      ],
      "text/plain": [
       "     Weight     Sex\n",
       "0  0.593268    Male\n",
       "1  0.364454  Female\n",
       "2  0.147445  Female\n",
       "3  0.770643  Female\n",
       "4  0.013963    Male"
      ]
     },
     "execution_count": 4,
     "metadata": {},
     "output_type": "execute_result"
    }
   ],
   "source": [
    "data_new = dataset[['Weight', 'Sex']]\n",
    "data_new.head()"
   ]
  },
  {
   "cell_type": "code",
   "execution_count": 5,
   "id": "07094f84",
   "metadata": {},
   "outputs": [
    {
     "data": {
      "text/html": [
       "<div>\n",
       "<style scoped>\n",
       "    .dataframe tbody tr th:only-of-type {\n",
       "        vertical-align: middle;\n",
       "    }\n",
       "\n",
       "    .dataframe tbody tr th {\n",
       "        vertical-align: top;\n",
       "    }\n",
       "\n",
       "    .dataframe thead th {\n",
       "        text-align: right;\n",
       "    }\n",
       "</style>\n",
       "<table border=\"1\" class=\"dataframe\">\n",
       "  <thead>\n",
       "    <tr style=\"text-align: right;\">\n",
       "      <th></th>\n",
       "      <th>Weight</th>\n",
       "    </tr>\n",
       "  </thead>\n",
       "  <tbody>\n",
       "    <tr>\n",
       "      <th>count</th>\n",
       "      <td>300.000000</td>\n",
       "    </tr>\n",
       "    <tr>\n",
       "      <th>mean</th>\n",
       "      <td>0.509387</td>\n",
       "    </tr>\n",
       "    <tr>\n",
       "      <th>std</th>\n",
       "      <td>0.296551</td>\n",
       "    </tr>\n",
       "    <tr>\n",
       "      <th>min</th>\n",
       "      <td>0.000817</td>\n",
       "    </tr>\n",
       "    <tr>\n",
       "      <th>25%</th>\n",
       "      <td>0.262364</td>\n",
       "    </tr>\n",
       "    <tr>\n",
       "      <th>50%</th>\n",
       "      <td>0.504960</td>\n",
       "    </tr>\n",
       "    <tr>\n",
       "      <th>75%</th>\n",
       "      <td>0.771203</td>\n",
       "    </tr>\n",
       "    <tr>\n",
       "      <th>max</th>\n",
       "      <td>0.994830</td>\n",
       "    </tr>\n",
       "  </tbody>\n",
       "</table>\n",
       "</div>"
      ],
      "text/plain": [
       "           Weight\n",
       "count  300.000000\n",
       "mean     0.509387\n",
       "std      0.296551\n",
       "min      0.000817\n",
       "25%      0.262364\n",
       "50%      0.504960\n",
       "75%      0.771203\n",
       "max      0.994830"
      ]
     },
     "execution_count": 5,
     "metadata": {},
     "output_type": "execute_result"
    }
   ],
   "source": [
    "data_new.describe()"
   ]
  },
  {
   "cell_type": "code",
   "execution_count": 35,
   "id": "9831e496",
   "metadata": {},
   "outputs": [
    {
     "data": {
      "image/png": "[encoded data removed]",
      "text/plain": [
       "<Figure size 432x288 with 1 Axes>"
      ]
     },
     "metadata": {
      "needs_background": "light"
     },
     "output_type": "display_data"
    }
   ],
   "source": [
    "import matplotlib.pyplot as plt\n",
    "import seaborn as sn\n",
    "%matplotlib inline\n",
    "plt.hist(data_new['Weight'], density = True)\n",
    "plt.show()"
   ]
  },
  {
   "cell_type": "code",
   "execution_count": 37,
   "id": "e755dfd9",
   "metadata": {},
   "outputs": [
    {
     "name": "stderr",
     "output_type": "stream",
     "text": [
      "C:\\Users\\Tagbo Aroh\\Miniconda3\\lib\\site-packages\\seaborn\\_decorators.py:36: FutureWarning: Pass the following variables as keyword args: x, y. From version 0.12, the only valid positional argument will be `data`, and passing other arguments without an explicit keyword will result in an error or misinterpretation.\n",
      "  warnings.warn(\n"
     ]
    },
    {
     "data": {
      "image/png": "[encoded data removed]",
      "text/plain": [
       "<Figure size 432x288 with 1 Axes>"
      ]
     },
     "metadata": {
      "needs_background": "light"
     },
     "output_type": "display_data"
    }
   ],
   "source": [
    "sn.boxplot('Sex','Weight', data = dataset)\n",
    "plt.show()\n",
    "#dataset[['Weight', 'Sex']]"
   ]
  },
  {
   "cell_type": "code",
   "execution_count": 44,
   "id": "5550e2f3",
   "metadata": {},
   "outputs": [
    {
     "name": "stderr",
     "output_type": "stream",
     "text": [
      "C:\\Users\\Tagbo Aroh\\Miniconda3\\lib\\site-packages\\seaborn\\_decorators.py:36: FutureWarning: Pass the following variables as keyword args: x, y. From version 0.12, the only valid positional argument will be `data`, and passing other arguments without an explicit keyword will result in an error or misinterpretation.\n",
      "  warnings.warn(\n"
     ]
    },
    {
     "data": {
      "text/plain": [
       "<AxesSubplot:xlabel='Class', ylabel='Weight'>"
      ]
     },
     "execution_count": 44,
     "metadata": {},
     "output_type": "execute_result"
    },
    {
     "data": {
      "image/png": "[encoded data removed]",
      "text/plain": [
       "<Figure size 432x288 with 1 Axes>"
      ]
     },
     "metadata": {
      "needs_background": "light"
     },
     "output_type": "display_data"
    }
   ],
   "source": [
    "sn.boxplot('Class','Weight', data = dataset)"
   ]
  },
  {
   "cell_type": "code",
   "execution_count": 38,
   "id": "a7fc3170",
   "metadata": {},
   "outputs": [
    {
     "data": {
      "text/plain": [
       "Female    180\n",
       "Male      120\n",
       "Name: Sex, dtype: int64"
      ]
     },
     "execution_count": 38,
     "metadata": {},
     "output_type": "execute_result"
    }
   ],
   "source": [
    "dataset['Sex'].value_counts()"
   ]
  },
  {
   "cell_type": "code",
   "execution_count": 39,
   "id": "5264930f",
   "metadata": {},
   "outputs": [],
   "source": [
    "M = dataset.loc[dataset['Sex']=='Male', 'Weight']\n",
    "F = dataset.loc[dataset['Sex']=='Female', 'Weight']"
   ]
  },
  {
   "cell_type": "code",
   "execution_count": 43,
   "id": "0537e896",
   "metadata": {},
   "outputs": [
    {
     "data": {
      "text/plain": [
       "Ttest_indResult(statistic=-0.4219191912096234, pvalue=0.6632886485906706)"
      ]
     },
     "execution_count": 43,
     "metadata": {},
     "output_type": "execute_result"
    }
   ],
   "source": [
    "import scipy.stats as stats\n",
    "\n",
    "\n",
    "\n",
    "stats.ttest_ind(M, F, equal_var=False, alternative = 'greater')"
   ]
  },
  {
   "cell_type": "code",
   "execution_count": 8,
   "id": "915525c2",
   "metadata": {},
   "outputs": [
    {
     "data": {
      "text/plain": [
       "Junior      100\n",
       "Senior      100\n",
       "Freshman    100\n",
       "Name: Class, dtype: int64"
      ]
     },
     "execution_count": 8,
     "metadata": {},
     "output_type": "execute_result"
    }
   ],
   "source": [
    "dataset['Class'].value_counts()"
   ]
  },
  {
   "cell_type": "code",
   "execution_count": 24,
   "id": "0591053e",
   "metadata": {},
   "outputs": [
    {
     "data": {
      "text/plain": [
       "LeveneResult(statistic=0.472102395926903, pvalue=0.624156873309905)"
      ]
     },
     "execution_count": 24,
     "metadata": {},
     "output_type": "execute_result"
    }
   ],
   "source": [
    "import scipy.stats as stats\n",
    "J = dataset.loc[dataset['Class']=='Junior', 'Weight']\n",
    "S = dataset.loc[dataset['Class']=='Senior', 'Weight']\n",
    "F = dataset.loc[dataset['Class']=='Freshman', 'Weight']\n",
    "\n",
    "stats.levene(J, S, F, center='mean')"
   ]
  },
  {
   "cell_type": "code",
   "execution_count": 25,
   "id": "d319b4e6",
   "metadata": {},
   "outputs": [
    {
     "data": {
      "text/plain": [
       "NormaltestResult(statistic=28.76229467929533, pvalue=5.67998340634498e-07)"
      ]
     },
     "execution_count": 25,
     "metadata": {},
     "output_type": "execute_result"
    }
   ],
   "source": [
    "from scipy.stats import normaltest\n",
    "normaltest(J)"
   ]
  },
  {
   "cell_type": "code",
   "execution_count": 45,
   "id": "2612e29a",
   "metadata": {},
   "outputs": [
    {
     "data": {
      "text/plain": [
       "F_onewayResult(statistic=0.06665626871107622, pvalue=0.935527735254003)"
      ]
     },
     "execution_count": 45,
     "metadata": {},
     "output_type": "execute_result"
    }
   ],
   "source": [
    "from scipy.stats import f_oneway\n",
    "\n",
    "f_oneway(J,S,F)"
   ]
  },
  {
   "cell_type": "code",
   "execution_count": null,
   "id": "7b58f26d",
   "metadata": {},
   "outputs": [],
   "source": []
  },
  {
   "cell_type": "code",
   "execution_count": 27,
   "id": "de804ba5",
   "metadata": {},
   "outputs": [
    {
     "data": {
      "text/html": [
       "<div>\n",
       "<style scoped>\n",
       "    .dataframe tbody tr th:only-of-type {\n",
       "        vertical-align: middle;\n",
       "    }\n",
       "\n",
       "    .dataframe tbody tr th {\n",
       "        vertical-align: top;\n",
       "    }\n",
       "\n",
       "    .dataframe thead th {\n",
       "        text-align: right;\n",
       "    }\n",
       "</style>\n",
       "<table border=\"1\" class=\"dataframe\">\n",
       "  <thead>\n",
       "    <tr style=\"text-align: right;\">\n",
       "      <th></th>\n",
       "      <th>sum_sq</th>\n",
       "      <th>df</th>\n",
       "      <th>F</th>\n",
       "      <th>PR(&gt;F)</th>\n",
       "    </tr>\n",
       "  </thead>\n",
       "  <tbody>\n",
       "    <tr>\n",
       "      <th>C(Class)</th>\n",
       "      <td>0.032260</td>\n",
       "      <td>2.0</td>\n",
       "      <td>0.181643</td>\n",
       "      <td>0.833992</td>\n",
       "    </tr>\n",
       "    <tr>\n",
       "      <th>C(Sex)</th>\n",
       "      <td>0.015243</td>\n",
       "      <td>1.0</td>\n",
       "      <td>0.171660</td>\n",
       "      <td>0.678943</td>\n",
       "    </tr>\n",
       "    <tr>\n",
       "      <th>C(Class):C(Sex)</th>\n",
       "      <td>0.140228</td>\n",
       "      <td>2.0</td>\n",
       "      <td>0.789575</td>\n",
       "      <td>0.454998</td>\n",
       "    </tr>\n",
       "    <tr>\n",
       "      <th>Residual</th>\n",
       "      <td>26.107153</td>\n",
       "      <td>294.0</td>\n",
       "      <td>NaN</td>\n",
       "      <td>NaN</td>\n",
       "    </tr>\n",
       "  </tbody>\n",
       "</table>\n",
       "</div>"
      ],
      "text/plain": [
       "                    sum_sq     df         F    PR(>F)\n",
       "C(Class)          0.032260    2.0  0.181643  0.833992\n",
       "C(Sex)            0.015243    1.0  0.171660  0.678943\n",
       "C(Class):C(Sex)   0.140228    2.0  0.789575  0.454998\n",
       "Residual         26.107153  294.0       NaN       NaN"
      ]
     },
     "execution_count": 27,
     "metadata": {},
     "output_type": "execute_result"
    }
   ],
   "source": [
    "import statsmodels.api as sm\n",
    "from statsmodels.formula.api import ols\n",
    "\n",
    "#perform two-way ANOVA\n",
    "model = ols('Weight ~ C(Class) + C(Sex) + C(Class):C(Sex)', data=dataset).fit()\n",
    "sm.stats.anova_lm(model, typ=2)"
   ]
  },
  {
   "cell_type": "markdown",
   "id": "1b06cceb",
   "metadata": {},
   "source": [
    "## P- Values\n"
   ]
  },
  {
   "cell_type": "code",
   "execution_count": 28,
   "id": "9e1fc8bd",
   "metadata": {},
   "outputs": [
    {
     "data": {
      "text/plain": [
       "0.036865328383323424"
      ]
     },
     "execution_count": 28,
     "metadata": {},
     "output_type": "execute_result"
    }
   ],
   "source": [
    "import scipy.stats as stats\n",
    "\n",
    "\n",
    "stats.t.sf(abs(1.87), df=24)\n",
    "\n"
   ]
  },
  {
   "cell_type": "code",
   "execution_count": 29,
   "id": "48373bf5",
   "metadata": {},
   "outputs": [
    {
     "data": {
      "text/plain": [
       "0.22064994634264962"
      ]
     },
     "execution_count": 29,
     "metadata": {},
     "output_type": "execute_result"
    }
   ],
   "source": [
    "stats.norm.sf(abs(-0.77))"
   ]
  },
  {
   "cell_type": "code",
   "execution_count": 30,
   "id": "fa81b91a",
   "metadata": {},
   "outputs": [
    {
     "data": {
      "text/plain": [
       "1.6448536269514722"
      ]
     },
     "execution_count": 30,
     "metadata": {},
     "output_type": "execute_result"
    }
   ],
   "source": [
    "stats.norm.ppf(.95)"
   ]
  },
  {
   "cell_type": "code",
   "execution_count": 33,
   "id": "849b5888",
   "metadata": {},
   "outputs": [
    {
     "data": {
      "text/plain": [
       "1.959963984540054"
      ]
     },
     "execution_count": 33,
     "metadata": {},
     "output_type": "execute_result"
    }
   ],
   "source": [
    "stats.norm.ppf(0.975)"
   ]
  },
  {
   "cell_type": "code",
   "execution_count": null,
   "id": "f4b41087",
   "metadata": {},
   "outputs": [],
   "source": []
  }
 ],
 "metadata": {
  "kernelspec": {
   "display_name": "Python 3 (ipykernel)",
   "language": "python",
   "name": "python3"
  },
  "language_info": {
   "codemirror_mode": {
    "name": "ipython",
    "version": 3
   },
   "file_extension": ".py",
   "mimetype": "text/x-python",
   "name": "python",
   "nbconvert_exporter": "python",
   "pygments_lexer": "ipython3",
   "version": "3.9.5"
  }
 },
 "nbformat": 4,
 "nbformat_minor": 5
}
