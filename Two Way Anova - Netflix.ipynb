{
 "cells": [
  {
   "cell_type": "code",
   "execution_count": 61,
   "id": "99889788",
   "metadata": {},
   "outputs": [],
   "source": [
    "import pandas as pd\n",
    "import numpy as np \n",
    "import os\n",
    "import seaborn as sns\n",
    "import matplotlib.pyplot as plt\n",
    "import plotly.express as py\n",
    "import scipy.stats as stats\n",
    "\n",
    "\n",
    "dataset = pd.read_csv(r'/Users/kirpachahal/Documents/Currency&Price.csv')"
   ]
  },
  {
   "cell_type": "code",
   "execution_count": 62,
   "id": "2e4c7a66",
   "metadata": {
    "scrolled": true
   },
   "outputs": [
    {
     "data": {
      "text/html": [
       "<div>\n",
       "<style scoped>\n",
       "    .dataframe tbody tr th:only-of-type {\n",
       "        vertical-align: middle;\n",
       "    }\n",
       "\n",
       "    .dataframe tbody tr th {\n",
       "        vertical-align: top;\n",
       "    }\n",
       "\n",
       "    .dataframe thead th {\n",
       "        text-align: right;\n",
       "    }\n",
       "</style>\n",
       "<table border=\"1\" class=\"dataframe\">\n",
       "  <thead>\n",
       "    <tr style=\"text-align: right;\">\n",
       "      <th></th>\n",
       "      <th>Country</th>\n",
       "      <th>GDP</th>\n",
       "      <th>Price USD</th>\n",
       "      <th>Price USD ($)</th>\n",
       "      <th>Basic</th>\n",
       "      <th>Currency</th>\n",
       "      <th># of TV Shows</th>\n",
       "      <th># of Movies</th>\n",
       "      <th>Total Library Size</th>\n",
       "      <th>Price per Title</th>\n",
       "    </tr>\n",
       "  </thead>\n",
       "  <tbody>\n",
       "    <tr>\n",
       "      <th>0</th>\n",
       "      <td>Pakistan</td>\n",
       "      <td>Low</td>\n",
       "      <td>Low</td>\n",
       "      <td>2.44</td>\n",
       "      <td>450.00</td>\n",
       "      <td>PKR</td>\n",
       "      <td>2181.0</td>\n",
       "      <td>3642.0</td>\n",
       "      <td>5823.0</td>\n",
       "      <td>0.00042</td>\n",
       "    </tr>\n",
       "    <tr>\n",
       "      <th>1</th>\n",
       "      <td>Turkey</td>\n",
       "      <td>Medium</td>\n",
       "      <td>Low</td>\n",
       "      <td>2.58</td>\n",
       "      <td>37.99</td>\n",
       "      <td>TRY</td>\n",
       "      <td>1774.0</td>\n",
       "      <td>2902.0</td>\n",
       "      <td>4676.0</td>\n",
       "      <td>0.00055</td>\n",
       "    </tr>\n",
       "    <tr>\n",
       "      <th>2</th>\n",
       "      <td>India</td>\n",
       "      <td>High</td>\n",
       "      <td>Low</td>\n",
       "      <td>2.62</td>\n",
       "      <td>199.00</td>\n",
       "      <td>INR</td>\n",
       "      <td>2193.0</td>\n",
       "      <td>3724.0</td>\n",
       "      <td>5917.0</td>\n",
       "      <td>0.00044</td>\n",
       "    </tr>\n",
       "    <tr>\n",
       "      <th>3</th>\n",
       "      <td>Argentina</td>\n",
       "      <td>Medium</td>\n",
       "      <td>Low</td>\n",
       "      <td>3.38</td>\n",
       "      <td>379.00</td>\n",
       "      <td>ARS</td>\n",
       "      <td>1900.0</td>\n",
       "      <td>3149.0</td>\n",
       "      <td>5049.0</td>\n",
       "      <td>0.00067</td>\n",
       "    </tr>\n",
       "    <tr>\n",
       "      <th>4</th>\n",
       "      <td>Colombia</td>\n",
       "      <td>Low</td>\n",
       "      <td>Low</td>\n",
       "      <td>4.48</td>\n",
       "      <td>16900.00</td>\n",
       "      <td>COP</td>\n",
       "      <td>1895.0</td>\n",
       "      <td>3149.0</td>\n",
       "      <td>5044.0</td>\n",
       "      <td>0.00089</td>\n",
       "    </tr>\n",
       "    <tr>\n",
       "      <th>...</th>\n",
       "      <td>...</td>\n",
       "      <td>...</td>\n",
       "      <td>...</td>\n",
       "      <td>...</td>\n",
       "      <td>...</td>\n",
       "      <td>...</td>\n",
       "      <td>...</td>\n",
       "      <td>...</td>\n",
       "      <td>...</td>\n",
       "      <td>...</td>\n",
       "    </tr>\n",
       "    <tr>\n",
       "      <th>59</th>\n",
       "      <td>Slovakia</td>\n",
       "      <td>Low</td>\n",
       "      <td>High</td>\n",
       "      <td>8.69</td>\n",
       "      <td>7.99</td>\n",
       "      <td>EUR</td>\n",
       "      <td>2024.0</td>\n",
       "      <td>5412.0</td>\n",
       "      <td>7436.0</td>\n",
       "      <td>0.00117</td>\n",
       "    </tr>\n",
       "    <tr>\n",
       "      <th>60</th>\n",
       "      <td>Bulgaria</td>\n",
       "      <td>Low</td>\n",
       "      <td>High</td>\n",
       "      <td>8.69</td>\n",
       "      <td>7.99</td>\n",
       "      <td>EUR</td>\n",
       "      <td>2024.0</td>\n",
       "      <td>5138.0</td>\n",
       "      <td>7162.0</td>\n",
       "      <td>0.00121</td>\n",
       "    </tr>\n",
       "    <tr>\n",
       "      <th>61</th>\n",
       "      <td>Monaco</td>\n",
       "      <td>Low</td>\n",
       "      <td>High</td>\n",
       "      <td>8.69</td>\n",
       "      <td>7.99</td>\n",
       "      <td>EUR</td>\n",
       "      <td>2047.0</td>\n",
       "      <td>3826.0</td>\n",
       "      <td>5873.0</td>\n",
       "      <td>0.00148</td>\n",
       "    </tr>\n",
       "    <tr>\n",
       "      <th>62</th>\n",
       "      <td>Gibraltar</td>\n",
       "      <td>Low</td>\n",
       "      <td>High</td>\n",
       "      <td>8.69</td>\n",
       "      <td>7.99</td>\n",
       "      <td>EUR</td>\n",
       "      <td>2125.0</td>\n",
       "      <td>4031.0</td>\n",
       "      <td>6156.0</td>\n",
       "      <td>0.00141</td>\n",
       "    </tr>\n",
       "    <tr>\n",
       "      <th>63</th>\n",
       "      <td>Czech Republic</td>\n",
       "      <td>Low</td>\n",
       "      <td>High</td>\n",
       "      <td>8.86</td>\n",
       "      <td>199.00</td>\n",
       "      <td>CZK</td>\n",
       "      <td>1208.0</td>\n",
       "      <td>3538.0</td>\n",
       "      <td>4746.0</td>\n",
       "      <td>0.00187</td>\n",
       "    </tr>\n",
       "  </tbody>\n",
       "</table>\n",
       "<p>64 rows × 10 columns</p>\n",
       "</div>"
      ],
      "text/plain": [
       "           Country     GDP Price USD  Price USD ($)     Basic Currency  \\\n",
       "0         Pakistan     Low       Low           2.44    450.00      PKR   \n",
       "1           Turkey  Medium       Low           2.58     37.99      TRY   \n",
       "2            India    High       Low           2.62    199.00      INR   \n",
       "3        Argentina  Medium       Low           3.38    379.00      ARS   \n",
       "4         Colombia     Low       Low           4.48  16900.00      COP   \n",
       "..             ...     ...       ...            ...       ...      ...   \n",
       "59        Slovakia     Low      High           8.69      7.99      EUR   \n",
       "60        Bulgaria     Low      High           8.69      7.99      EUR   \n",
       "61          Monaco     Low      High           8.69      7.99      EUR   \n",
       "62       Gibraltar     Low      High           8.69      7.99      EUR   \n",
       "63  Czech Republic     Low      High           8.86    199.00      CZK   \n",
       "\n",
       "    # of TV Shows  # of Movies  Total Library Size  Price per Title  \n",
       "0          2181.0       3642.0              5823.0          0.00042  \n",
       "1          1774.0       2902.0              4676.0          0.00055  \n",
       "2          2193.0       3724.0              5917.0          0.00044  \n",
       "3          1900.0       3149.0              5049.0          0.00067  \n",
       "4          1895.0       3149.0              5044.0          0.00089  \n",
       "..            ...          ...                 ...              ...  \n",
       "59         2024.0       5412.0              7436.0          0.00117  \n",
       "60         2024.0       5138.0              7162.0          0.00121  \n",
       "61         2047.0       3826.0              5873.0          0.00148  \n",
       "62         2125.0       4031.0              6156.0          0.00141  \n",
       "63         1208.0       3538.0              4746.0          0.00187  \n",
       "\n",
       "[64 rows x 10 columns]"
      ]
     },
     "execution_count": 62,
     "metadata": {},
     "output_type": "execute_result"
    }
   ],
   "source": [
    "dataset.head(64)"
   ]
  },
  {
   "cell_type": "code",
   "execution_count": 63,
   "id": "e552298e",
   "metadata": {},
   "outputs": [],
   "source": [
    "dataset.rename(columns={'# of Movies': 'Num_Movies',\n",
    "                   'Price USD': 'Price_USD'},\n",
    "          inplace=True, errors='raise')"
   ]
  },
  {
   "cell_type": "code",
   "execution_count": 64,
   "id": "513587bf",
   "metadata": {
    "scrolled": false
   },
   "outputs": [
    {
     "data": {
      "text/plain": [
       "Index(['Country', 'GDP', 'Price_USD', 'Price USD ($)', 'Basic', 'Currency',\n",
       "       '# of TV Shows', 'Num_Movies', 'Total Library Size', 'Price per Title'],\n",
       "      dtype='object')"
      ]
     },
     "execution_count": 64,
     "metadata": {},
     "output_type": "execute_result"
    }
   ],
   "source": [
    "dataset.columns\n"
   ]
  },
  {
   "cell_type": "code",
   "execution_count": 65,
   "id": "d44f6ab2",
   "metadata": {
    "scrolled": true
   },
   "outputs": [
    {
     "data": {
      "image/png": "[encoded data removed]",
      "text/plain": [
       "<Figure size 1080x720 with 2 Axes>"
      ]
     },
     "metadata": {
      "needs_background": "light"
     },
     "output_type": "display_data"
    }
   ],
   "source": [
    "plt.figure(figsize=(15,10))\n",
    "sns.heatmap(dataset.corr(), annot=True);"
   ]
  },
  {
   "cell_type": "code",
   "execution_count": 68,
   "id": "e984b394",
   "metadata": {
    "scrolled": true
   },
   "outputs": [
    {
     "data": {
      "text/plain": [
       "High      40\n",
       "Medium    34\n",
       "Low        7\n",
       "Name: Price_USD, dtype: int64"
      ]
     },
     "execution_count": 68,
     "metadata": {},
     "output_type": "execute_result"
    }
   ],
   "source": [
    "dataset['Price_USD'].value_counts()"
   ]
  },
  {
   "cell_type": "code",
   "execution_count": 69,
   "id": "d89a0504",
   "metadata": {},
   "outputs": [
    {
     "data": {
      "text/plain": [
       "Low       54\n",
       "High      16\n",
       "Medium    11\n",
       "Name: GDP, dtype: int64"
      ]
     },
     "execution_count": 69,
     "metadata": {},
     "output_type": "execute_result"
    }
   ],
   "source": [
    "dataset['GDP'].value_counts()"
   ]
  },
  {
   "cell_type": "code",
   "execution_count": 70,
   "id": "60b46179",
   "metadata": {},
   "outputs": [],
   "source": [
    "Price_High = dataset.loc[dataset['Price_USD']=='High', 'Num_Movies']\n",
    "Price_Medium = dataset.loc[dataset['Price_USD']=='Medium', 'Num_Movies']\n",
    "Price_Low = dataset.loc[dataset['Price_USD']=='Low', 'Num_Movies']\n"
   ]
  },
  {
   "cell_type": "code",
   "execution_count": 71,
   "id": "ef182c90",
   "metadata": {},
   "outputs": [
    {
     "data": {
      "text/plain": [
       "LeveneResult(statistic=2.1618875146854486, pvalue=0.12195614707857697)"
      ]
     },
     "execution_count": 71,
     "metadata": {},
     "output_type": "execute_result"
    }
   ],
   "source": [
    "GDP_High = dataset.loc[dataset['GDP']=='High', 'Num_Movies']\n",
    "GDP_Medium = dataset.loc[dataset['GDP']=='Medium', 'Num_Movies']\n",
    "GDP_Low = dataset.loc[dataset['GDP']=='Low', 'Num_Movies']\n",
    "\n",
    "stats.levene(GDP_High, GDP_Medium, GDP_Low, center='mean')\n",
    "\n",
    "#Levene’s test can be used to check the Homogeneity of variances when the data is not drawn from normal distribution.\n",
    "#you would not conclude that there is sufficient evidence that the two samples have different variances"
   ]
  },
  {
   "cell_type": "code",
   "execution_count": 72,
   "id": "e8b8b3d0",
   "metadata": {},
   "outputs": [
    {
     "data": {
      "text/plain": [
       "NormaltestResult(statistic=0.4593214736877262, pvalue=0.7948032042113533)"
      ]
     },
     "execution_count": 72,
     "metadata": {},
     "output_type": "execute_result"
    }
   ],
   "source": [
    "from scipy.stats import normaltest\n",
    "normaltest(Price_High)"
   ]
  },
  {
   "cell_type": "code",
   "execution_count": 73,
   "id": "71578425",
   "metadata": {},
   "outputs": [
    {
     "data": {
      "text/plain": [
       "F_onewayResult(statistic=0.9601662811723521, pvalue=0.38730712948094626)"
      ]
     },
     "execution_count": 73,
     "metadata": {},
     "output_type": "execute_result"
    }
   ],
   "source": [
    "from scipy.stats import f_oneway\n",
    "\n",
    "f_oneway(GDP_High,GDP_Medium,GDP_Low)"
   ]
  },
  {
   "cell_type": "code",
   "execution_count": 89,
   "id": "903795b4",
   "metadata": {},
   "outputs": [
    {
     "name": "stdout",
     "output_type": "stream",
     "text": [
      "                           sum_sq    df          F    PR(>F)\n",
      "C(GDP)               1.109421e+06   2.0   1.817822  0.169752\n",
      "C(Price_USD)         7.145377e+06   2.0  11.707934  0.000040\n",
      "C(GDP):C(Price_USD)  1.085914e+06   4.0   0.889653  0.474665\n",
      "Residual             2.197088e+07  72.0        NaN       NaN\n"
     ]
    }
   ],
   "source": [
    "import statsmodels.api as sm\n",
    "from statsmodels.formula.api import ols\n",
    "from statsmodels.stats.anova import anova_lm\n",
    "\n",
    "\n",
    "#perform two-way ANOVA\n",
    "#model = ols('Num_Movies ~ C(GDP) + C(Price_USD) + C(GDP):C(Price_USD)', data=dataset).fit()\n",
    "#sm.stats.anova_lm(model, typ=2)\n",
    "\n",
    "# ANOVA\n",
    "formula = 'Num_Movies~C(GDP)+C(Price_USD)+C(GDP):C(Price_USD)'\n",
    "model = ols(formula, dataset).fit()\n",
    "aov_table = anova_lm(model, typ=2)\n",
    "\n",
    "print(aov_table)"
   ]
  },
  {
   "cell_type": "code",
   "execution_count": 90,
   "id": "0c208810",
   "metadata": {
    "scrolled": true
   },
   "outputs": [
    {
     "name": "stdout",
     "output_type": "stream",
     "text": [
      "                           sum_sq    df        F  PR(>F)  eta_sq  omega_sq\n",
      "C(GDP)               1.109421e+06   2.0   1.8178  0.1698  0.0354    0.0158\n",
      "C(Price_USD)         7.145377e+06   2.0  11.7079  0.0000  0.2282    0.2067\n",
      "C(GDP):C(Price_USD)  1.085914e+06   4.0   0.8897  0.4747  0.0347   -0.0043\n",
      "Residual             2.197088e+07  72.0      NaN     NaN     NaN       NaN\n"
     ]
    }
   ],
   "source": [
    "def eta_squared(aov):\n",
    "    aov['eta_sq'] = 'NaN'\n",
    "    aov['eta_sq'] = aov[:-1]['sum_sq']/sum(aov['sum_sq'])\n",
    "    return aov\n",
    "\n",
    "def omega_squared(aov):\n",
    "    mse = aov['sum_sq'][-1]/aov['df'][-1]\n",
    "    aov['omega_sq'] = 'NaN'\n",
    "    aov['omega_sq'] = (aov[:-1]['sum_sq']-(aov[:-1]['df']*mse))/(sum(aov['sum_sq'])+mse)\n",
    "    return aov\n",
    "\n",
    "\n",
    "eta_squared(aov_table)\n",
    "omega_squared(aov_table)\n",
    "\n",
    "print(aov_table.round(4))"
   ]
  },
  {
   "cell_type": "code",
   "execution_count": 91,
   "id": "c923e0a6",
   "metadata": {},
   "outputs": [
    {
     "name": "stdout",
     "output_type": "stream",
     "text": [
      "                           sum_sq    df        F  PR(>F)  eta_sq  omega_sq\n",
      "C(GDP)               1.109421e+06   2.0   1.8178  0.1698  0.0354    0.0158\n",
      "C(Price_USD)         7.145377e+06   2.0  11.7079  0.0000  0.2282    0.2067\n",
      "C(GDP):C(Price_USD)  1.085914e+06   4.0   0.8897  0.4747  0.0347   -0.0043\n",
      "Residual             2.197088e+07  72.0      NaN     NaN     NaN       NaN\n"
     ]
    }
   ],
   "source": [
    "#In data above we see that the P-Values for GDP and Price USD.\n",
    "#The p-value for the interaction effect (0.4747) is greater than 0.05 which depicts that there is no significant interaction effect between GDP frequency and Price USD frequency\n",
    "\n",
    "#Getting Effect Sizes\n",
    "def eta_squared(aov):\n",
    "    aov['eta_sq'] = 'NaN'\n",
    "    aov['eta_sq'] = aov[:-1]['sum_sq']/sum(aov['sum_sq'])\n",
    "    return aov\n",
    "\n",
    "def omega_squared(aov):\n",
    "    mse = aov['sum_sq'][-1]/aov['df'][-1]\n",
    "    aov['omega_sq'] = 'NaN'\n",
    "    aov['omega_sq'] = (aov[:-1]['sum_sq']-(aov[:-1]['df']*mse))/(sum(aov['sum_sq'])+mse)\n",
    "    return aov\n",
    "\n",
    "\n",
    "eta_squared(aov_table)\n",
    "omega_squared(aov_table)\n",
    "\n",
    "print(aov_table.round(4))"
   ]
  },
  {
   "cell_type": "code",
   "execution_count": 92,
   "id": "a618e015",
   "metadata": {},
   "outputs": [
    {
     "name": "stderr",
     "output_type": "stream",
     "text": [
      "/Users/kirpachahal/opt/anaconda3/lib/python3.9/site-packages/statsmodels/graphics/gofplots.py:993: UserWarning: marker is redundantly defined by the 'marker' keyword argument and the fmt string \"bo\" (-> marker='o'). The keyword argument will take precedence.\n",
      "  ax.plot(x, y, fmt, **plot_style)\n"
     ]
    },
    {
     "data": {
      "image/png": "[encoded data removed]",
      "text/plain": [
       "<Figure size 432x288 with 1 Axes>"
      ]
     },
     "metadata": {
      "needs_background": "light"
     },
     "output_type": "display_data"
    }
   ],
   "source": [
    "#Plotting Residuals\n",
    "res = model.resid \n",
    "fig = sm.qqplot(res, line='s')\n",
    "plt.show()\n",
    "#In statistical models, a residual is the difference between the observed value and the mean value that the model predicts for that observation. Residual values are especially useful in regression and ANOVA procedures because they indicate the extent to which a model accounts for the variation in the observed data.\n",
    "#we can see that residuals are almost normally distributed (although points at the extreme ends can be discounted). Hence, we can conclude that it satisfies the Normality assumption of the ANOVA test."
   ]
  },
  {
   "cell_type": "code",
   "execution_count": 98,
   "id": "fc96586b",
   "metadata": {},
   "outputs": [
    {
     "ename": "ValueError",
     "evalue": "Could not interpret input 'GDP'",
     "output_type": "error",
     "traceback": [
      "\u001b[0;31m---------------------------------------------------------------------------\u001b[0m",
      "\u001b[0;31mValueError\u001b[0m                                Traceback (most recent call last)",
      "\u001b[0;32m/var/folders/ym/g_xbk1f15bqb_mpln338w5gh0000gn/T/ipykernel_4966/3557263986.py\u001b[0m in \u001b[0;36m<module>\u001b[0;34m\u001b[0m\n\u001b[0;32m----> 1\u001b[0;31m sns.boxplot(x='GDP', y='Num_Movies',\n\u001b[0m\u001b[1;32m      2\u001b[0m                  \u001b[0mdata\u001b[0m\u001b[0;34m=\u001b[0m\u001b[0maov_table\u001b[0m\u001b[0;34m,\u001b[0m\u001b[0;34m\u001b[0m\u001b[0;34m\u001b[0m\u001b[0m\n\u001b[1;32m      3\u001b[0m                  palette=\"colorblind\")\n",
      "\u001b[0;32m~/opt/anaconda3/lib/python3.9/site-packages/seaborn/_decorators.py\u001b[0m in \u001b[0;36minner_f\u001b[0;34m(*args, **kwargs)\u001b[0m\n\u001b[1;32m     44\u001b[0m             )\n\u001b[1;32m     45\u001b[0m         \u001b[0mkwargs\u001b[0m\u001b[0;34m.\u001b[0m\u001b[0mupdate\u001b[0m\u001b[0;34m(\u001b[0m\u001b[0;34m{\u001b[0m\u001b[0mk\u001b[0m\u001b[0;34m:\u001b[0m \u001b[0marg\u001b[0m \u001b[0;32mfor\u001b[0m \u001b[0mk\u001b[0m\u001b[0;34m,\u001b[0m \u001b[0marg\u001b[0m \u001b[0;32min\u001b[0m \u001b[0mzip\u001b[0m\u001b[0;34m(\u001b[0m\u001b[0msig\u001b[0m\u001b[0;34m.\u001b[0m\u001b[0mparameters\u001b[0m\u001b[0;34m,\u001b[0m \u001b[0margs\u001b[0m\u001b[0;34m)\u001b[0m\u001b[0;34m}\u001b[0m\u001b[0;34m)\u001b[0m\u001b[0;34m\u001b[0m\u001b[0;34m\u001b[0m\u001b[0m\n\u001b[0;32m---> 46\u001b[0;31m         \u001b[0;32mreturn\u001b[0m \u001b[0mf\u001b[0m\u001b[0;34m(\u001b[0m\u001b[0;34m**\u001b[0m\u001b[0mkwargs\u001b[0m\u001b[0;34m)\u001b[0m\u001b[0;34m\u001b[0m\u001b[0;34m\u001b[0m\u001b[0m\n\u001b[0m\u001b[1;32m     47\u001b[0m     \u001b[0;32mreturn\u001b[0m \u001b[0minner_f\u001b[0m\u001b[0;34m\u001b[0m\u001b[0;34m\u001b[0m\u001b[0m\n\u001b[1;32m     48\u001b[0m \u001b[0;34m\u001b[0m\u001b[0m\n",
      "\u001b[0;32m~/opt/anaconda3/lib/python3.9/site-packages/seaborn/categorical.py\u001b[0m in \u001b[0;36mboxplot\u001b[0;34m(x, y, hue, data, order, hue_order, orient, color, palette, saturation, width, dodge, fliersize, linewidth, whis, ax, **kwargs)\u001b[0m\n\u001b[1;32m   2241\u001b[0m ):\n\u001b[1;32m   2242\u001b[0m \u001b[0;34m\u001b[0m\u001b[0m\n\u001b[0;32m-> 2243\u001b[0;31m     plotter = _BoxPlotter(x, y, hue, data, order, hue_order,\n\u001b[0m\u001b[1;32m   2244\u001b[0m                           \u001b[0morient\u001b[0m\u001b[0;34m,\u001b[0m \u001b[0mcolor\u001b[0m\u001b[0;34m,\u001b[0m \u001b[0mpalette\u001b[0m\u001b[0;34m,\u001b[0m \u001b[0msaturation\u001b[0m\u001b[0;34m,\u001b[0m\u001b[0;34m\u001b[0m\u001b[0;34m\u001b[0m\u001b[0m\n\u001b[1;32m   2245\u001b[0m                           width, dodge, fliersize, linewidth)\n",
      "\u001b[0;32m~/opt/anaconda3/lib/python3.9/site-packages/seaborn/categorical.py\u001b[0m in \u001b[0;36m__init__\u001b[0;34m(self, x, y, hue, data, order, hue_order, orient, color, palette, saturation, width, dodge, fliersize, linewidth)\u001b[0m\n\u001b[1;32m    404\u001b[0m                  width, dodge, fliersize, linewidth):\n\u001b[1;32m    405\u001b[0m \u001b[0;34m\u001b[0m\u001b[0m\n\u001b[0;32m--> 406\u001b[0;31m         \u001b[0mself\u001b[0m\u001b[0;34m.\u001b[0m\u001b[0mestablish_variables\u001b[0m\u001b[0;34m(\u001b[0m\u001b[0mx\u001b[0m\u001b[0;34m,\u001b[0m \u001b[0my\u001b[0m\u001b[0;34m,\u001b[0m \u001b[0mhue\u001b[0m\u001b[0;34m,\u001b[0m \u001b[0mdata\u001b[0m\u001b[0;34m,\u001b[0m \u001b[0morient\u001b[0m\u001b[0;34m,\u001b[0m \u001b[0morder\u001b[0m\u001b[0;34m,\u001b[0m \u001b[0mhue_order\u001b[0m\u001b[0;34m)\u001b[0m\u001b[0;34m\u001b[0m\u001b[0;34m\u001b[0m\u001b[0m\n\u001b[0m\u001b[1;32m    407\u001b[0m         \u001b[0mself\u001b[0m\u001b[0;34m.\u001b[0m\u001b[0mestablish_colors\u001b[0m\u001b[0;34m(\u001b[0m\u001b[0mcolor\u001b[0m\u001b[0;34m,\u001b[0m \u001b[0mpalette\u001b[0m\u001b[0;34m,\u001b[0m \u001b[0msaturation\u001b[0m\u001b[0;34m)\u001b[0m\u001b[0;34m\u001b[0m\u001b[0;34m\u001b[0m\u001b[0m\n\u001b[1;32m    408\u001b[0m \u001b[0;34m\u001b[0m\u001b[0m\n",
      "\u001b[0;32m~/opt/anaconda3/lib/python3.9/site-packages/seaborn/categorical.py\u001b[0m in \u001b[0;36mestablish_variables\u001b[0;34m(self, x, y, hue, data, orient, order, hue_order, units)\u001b[0m\n\u001b[1;32m    151\u001b[0m                 \u001b[0;32mif\u001b[0m \u001b[0misinstance\u001b[0m\u001b[0;34m(\u001b[0m\u001b[0mvar\u001b[0m\u001b[0;34m,\u001b[0m \u001b[0mstr\u001b[0m\u001b[0;34m)\u001b[0m\u001b[0;34m:\u001b[0m\u001b[0;34m\u001b[0m\u001b[0;34m\u001b[0m\u001b[0m\n\u001b[1;32m    152\u001b[0m                     \u001b[0merr\u001b[0m \u001b[0;34m=\u001b[0m \u001b[0;34m\"Could not interpret input '{}'\"\u001b[0m\u001b[0;34m.\u001b[0m\u001b[0mformat\u001b[0m\u001b[0;34m(\u001b[0m\u001b[0mvar\u001b[0m\u001b[0;34m)\u001b[0m\u001b[0;34m\u001b[0m\u001b[0;34m\u001b[0m\u001b[0m\n\u001b[0;32m--> 153\u001b[0;31m                     \u001b[0;32mraise\u001b[0m \u001b[0mValueError\u001b[0m\u001b[0;34m(\u001b[0m\u001b[0merr\u001b[0m\u001b[0;34m)\u001b[0m\u001b[0;34m\u001b[0m\u001b[0;34m\u001b[0m\u001b[0m\n\u001b[0m\u001b[1;32m    154\u001b[0m \u001b[0;34m\u001b[0m\u001b[0m\n\u001b[1;32m    155\u001b[0m             \u001b[0;31m# Figure out the plotting orientation\u001b[0m\u001b[0;34m\u001b[0m\u001b[0;34m\u001b[0m\u001b[0m\n",
      "\u001b[0;31mValueError\u001b[0m: Could not interpret input 'GDP'"
     ]
    }
   ],
   "source": [
    "sns.boxplot(x='GDP', y='Num_Movies',\n",
    "                 data=aov_table,\n",
    "                 palette=\"colorblind\")"
   ]
  },
  {
   "cell_type": "code",
   "execution_count": null,
   "id": "7dfc329f",
   "metadata": {},
   "outputs": [],
   "source": [
    "d = pd.read_csv(r'/Users/kirpachahal/Documents/Currency&Price.csv', sep=\"\\t\")\n",
    "d_melt = pd.melt(d, id_vars=['GDP'], value_vars=['Low', 'High', 'Medium'])\n",
    "d_melt.columns = ['GDP', 'Price_USD', 'Num_Movies']\n",
    "d_melt.head()\n",
    "\n",
    "\n",
    "#sns.boxplot(x=\"GDP\", y=\"Num_Movies\", hue=\"Price_USD\", data=d_melt, palette=\"Set3\") sns.boxplot(x='age_Group', y='Count',\n",
    "                 data=AnovaData,\n",
    "                 palette=\"colorblind\")"
   ]
  },
  {
   "cell_type": "code",
   "execution_count": null,
   "id": "010c2836",
   "metadata": {},
   "outputs": [],
   "source": []
  }
 ],
 "metadata": {
  "kernelspec": {
   "display_name": "Python 3 (ipykernel)",
   "language": "python",
   "name": "python3"
  },
  "language_info": {
   "codemirror_mode": {
    "name": "ipython",
    "version": 3
   },
   "file_extension": ".py",
   "mimetype": "text/x-python",
   "name": "python",
   "nbconvert_exporter": "python",
   "pygments_lexer": "ipython3",
   "version": "3.9.7"
  }
 },
 "nbformat": 4,
 "nbformat_minor": 5
}
