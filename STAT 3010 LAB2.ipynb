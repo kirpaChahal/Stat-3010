{
 "cells": [
  {
   "cell_type": "code",
   "execution_count": 2,
   "id": "01724976",
   "metadata": {},
   "outputs": [],
   "source": [
    "import numpy as np\n",
    "import seaborn as sn\n",
    "import matplotlib.pyplot as plt\n",
    "%matplotlib inline\n",
    "import numpy as random\n",
    "import pandas as pd\n",
    "import scipy.stats as stats"
   ]
  },
  {
   "cell_type": "markdown",
   "id": "f9b1adae",
   "metadata": {},
   "source": [
    "### Bernoulli Random Variable"
   ]
  },
  {
   "cell_type": "code",
   "execution_count": 5,
   "id": "cb60a0b3",
   "metadata": {},
   "outputs": [
    {
     "data": {
      "text/plain": [
       "array([1, 1, 0, 1, 0, 0, 1, 1, 0, 1])"
      ]
     },
     "execution_count": 5,
     "metadata": {},
     "output_type": "execute_result"
    }
   ],
   "source": [
    "p = 0.5\n",
    "X = stats.bernoulli.rvs(p, size = 10)\n",
    "X"
   ]
  },
  {
   "cell_type": "code",
   "execution_count": 6,
   "id": "b6fc428f",
   "metadata": {},
   "outputs": [
    {
     "data": {
      "image/png": "[encoded data removed]",
      "text/plain": [
       "<Figure size 432x288 with 1 Axes>"
      ]
     },
     "metadata": {
      "needs_background": "light"
     },
     "output_type": "display_data"
    }
   ],
   "source": [
    "X = stats.bernoulli.rvs(p,size=(10, 5))\n",
    "plt.hist(X,bins='auto', density = True)\n",
    "plt.show()"
   ]
  },
  {
   "cell_type": "code",
   "execution_count": 14,
   "id": "cfc4af1b",
   "metadata": {},
   "outputs": [
    {
     "data": {
      "text/html": [
       "<div>\n",
       "<style scoped>\n",
       "    .dataframe tbody tr th:only-of-type {\n",
       "        vertical-align: middle;\n",
       "    }\n",
       "\n",
       "    .dataframe tbody tr th {\n",
       "        vertical-align: top;\n",
       "    }\n",
       "\n",
       "    .dataframe thead th {\n",
       "        text-align: right;\n",
       "    }\n",
       "</style>\n",
       "<table border=\"1\" class=\"dataframe\">\n",
       "  <thead>\n",
       "    <tr style=\"text-align: right;\">\n",
       "      <th></th>\n",
       "      <th>Probability</th>\n",
       "    </tr>\n",
       "    <tr>\n",
       "      <th>X</th>\n",
       "      <th></th>\n",
       "    </tr>\n",
       "  </thead>\n",
       "  <tbody>\n",
       "    <tr>\n",
       "      <th>0</th>\n",
       "      <td>0.3</td>\n",
       "    </tr>\n",
       "    <tr>\n",
       "      <th>1</th>\n",
       "      <td>0.7</td>\n",
       "    </tr>\n",
       "  </tbody>\n",
       "</table>\n",
       "</div>"
      ],
      "text/plain": [
       "   Probability\n",
       "X             \n",
       "0          0.3\n",
       "1          0.7"
      ]
     },
     "execution_count": 14,
     "metadata": {},
     "output_type": "execute_result"
    }
   ],
   "source": [
    "rvs = stats.bernoulli(0.7)\n",
    "x = np.array([0,1])\n",
    "f = rvs.pmf(x)\n",
    "pd.DataFrame({'X':x, 'PMF':f}).set_index('X')"
   ]
  },
  {
   "cell_type": "code",
   "execution_count": 16,
   "id": "c3aef155",
   "metadata": {},
   "outputs": [
    {
     "data": {
      "text/html": [
       "<div>\n",
       "<style scoped>\n",
       "    .dataframe tbody tr th:only-of-type {\n",
       "        vertical-align: middle;\n",
       "    }\n",
       "\n",
       "    .dataframe tbody tr th {\n",
       "        vertical-align: top;\n",
       "    }\n",
       "\n",
       "    .dataframe thead th {\n",
       "        text-align: right;\n",
       "    }\n",
       "</style>\n",
       "<table border=\"1\" class=\"dataframe\">\n",
       "  <thead>\n",
       "    <tr style=\"text-align: right;\">\n",
       "      <th></th>\n",
       "      <th>CDF</th>\n",
       "    </tr>\n",
       "    <tr>\n",
       "      <th>X</th>\n",
       "      <th></th>\n",
       "    </tr>\n",
       "  </thead>\n",
       "  <tbody>\n",
       "    <tr>\n",
       "      <th>0</th>\n",
       "      <td>0.3</td>\n",
       "    </tr>\n",
       "    <tr>\n",
       "      <th>1</th>\n",
       "      <td>1.0</td>\n",
       "    </tr>\n",
       "  </tbody>\n",
       "</table>\n",
       "</div>"
      ],
      "text/plain": [
       "   CDF\n",
       "X     \n",
       "0  0.3\n",
       "1  1.0"
      ]
     },
     "execution_count": 16,
     "metadata": {},
     "output_type": "execute_result"
    }
   ],
   "source": [
    "rvs = stats.bernoulli(0.7)\n",
    "x = np.array([0,1])\n",
    "f = rvs.cdf(x)\n",
    "pd.DataFrame({'X':x, 'CDF':f}).set_index('X')"
   ]
  },
  {
   "cell_type": "markdown",
   "id": "fd312522",
   "metadata": {},
   "source": [
    "### Binomial Random Variable"
   ]
  },
  {
   "cell_type": "code",
   "execution_count": 19,
   "id": "2c3f9772",
   "metadata": {},
   "outputs": [
    {
     "data": {
      "text/plain": [
       "array([1, 2, 3, 3, 2, 3, 2, 3, 2, 2])"
      ]
     },
     "execution_count": 19,
     "metadata": {},
     "output_type": "execute_result"
    }
   ],
   "source": [
    "p = 0.4\n",
    "n = 5\n",
    "X = stats.binom.rvs(n,p, size = 10)\n",
    "X"
   ]
  },
  {
   "cell_type": "code",
   "execution_count": 30,
   "id": "42d644f3",
   "metadata": {},
   "outputs": [
    {
     "data": {
      "image/png": "[encoded data removed]",
      "text/plain": [
       "<Figure size 432x288 with 1 Axes>"
      ]
     },
     "metadata": {
      "needs_background": "light"
     },
     "output_type": "display_data"
    }
   ],
   "source": [
    "X = stats.binom.rvs(100,p,size=(10, 5))\n",
    "plt.hist(X,bins='auto', density = True)\n",
    "plt.show()"
   ]
  },
  {
   "cell_type": "code",
   "execution_count": 32,
   "id": "a20d9892",
   "metadata": {},
   "outputs": [
    {
     "data": {
      "text/html": [
       "<div>\n",
       "<style scoped>\n",
       "    .dataframe tbody tr th:only-of-type {\n",
       "        vertical-align: middle;\n",
       "    }\n",
       "\n",
       "    .dataframe tbody tr th {\n",
       "        vertical-align: top;\n",
       "    }\n",
       "\n",
       "    .dataframe thead th {\n",
       "        text-align: right;\n",
       "    }\n",
       "</style>\n",
       "<table border=\"1\" class=\"dataframe\">\n",
       "  <thead>\n",
       "    <tr style=\"text-align: right;\">\n",
       "      <th></th>\n",
       "      <th>PMF</th>\n",
       "    </tr>\n",
       "    <tr>\n",
       "      <th>X</th>\n",
       "      <th></th>\n",
       "    </tr>\n",
       "  </thead>\n",
       "  <tbody>\n",
       "    <tr>\n",
       "      <th>3</th>\n",
       "      <td>0.042467</td>\n",
       "    </tr>\n",
       "    <tr>\n",
       "      <th>5</th>\n",
       "      <td>0.200658</td>\n",
       "    </tr>\n",
       "    <tr>\n",
       "      <th>2</th>\n",
       "      <td>0.010617</td>\n",
       "    </tr>\n",
       "    <tr>\n",
       "      <th>6</th>\n",
       "      <td>0.250823</td>\n",
       "    </tr>\n",
       "    <tr>\n",
       "      <th>7</th>\n",
       "      <td>0.214991</td>\n",
       "    </tr>\n",
       "    <tr>\n",
       "      <th>1</th>\n",
       "      <td>0.001573</td>\n",
       "    </tr>\n",
       "    <tr>\n",
       "      <th>8</th>\n",
       "      <td>0.120932</td>\n",
       "    </tr>\n",
       "    <tr>\n",
       "      <th>9</th>\n",
       "      <td>0.040311</td>\n",
       "    </tr>\n",
       "    <tr>\n",
       "      <th>4</th>\n",
       "      <td>0.111477</td>\n",
       "    </tr>\n",
       "    <tr>\n",
       "      <th>11</th>\n",
       "      <td>0.000000</td>\n",
       "    </tr>\n",
       "    <tr>\n",
       "      <th>0</th>\n",
       "      <td>0.000105</td>\n",
       "    </tr>\n",
       "  </tbody>\n",
       "</table>\n",
       "</div>"
      ],
      "text/plain": [
       "         PMF\n",
       "X           \n",
       "3   0.042467\n",
       "5   0.200658\n",
       "2   0.010617\n",
       "6   0.250823\n",
       "7   0.214991\n",
       "1   0.001573\n",
       "8   0.120932\n",
       "9   0.040311\n",
       "4   0.111477\n",
       "11  0.000000\n",
       "0   0.000105"
      ]
     },
     "execution_count": 32,
     "metadata": {},
     "output_type": "execute_result"
    }
   ],
   "source": [
    "rvs = stats.binom(10,0.6)\n",
    "x = np.array([3,5,2,6,7,1,8,9,4, 11,0])\n",
    "f = rvs.pmf(x)\n",
    "pd.DataFrame({'X':x, 'PMF':f}).set_index('X')"
   ]
  },
  {
   "cell_type": "code",
   "execution_count": 52,
   "id": "331e90ab",
   "metadata": {},
   "outputs": [
    {
     "data": {
      "text/html": [
       "<div>\n",
       "<style scoped>\n",
       "    .dataframe tbody tr th:only-of-type {\n",
       "        vertical-align: middle;\n",
       "    }\n",
       "\n",
       "    .dataframe tbody tr th {\n",
       "        vertical-align: top;\n",
       "    }\n",
       "\n",
       "    .dataframe thead th {\n",
       "        text-align: right;\n",
       "    }\n",
       "</style>\n",
       "<table border=\"1\" class=\"dataframe\">\n",
       "  <thead>\n",
       "    <tr style=\"text-align: right;\">\n",
       "      <th></th>\n",
       "      <th>CDF</th>\n",
       "    </tr>\n",
       "    <tr>\n",
       "      <th>X</th>\n",
       "      <th></th>\n",
       "    </tr>\n",
       "  </thead>\n",
       "  <tbody>\n",
       "    <tr>\n",
       "      <th>3</th>\n",
       "      <td>0.054762</td>\n",
       "    </tr>\n",
       "    <tr>\n",
       "      <th>5</th>\n",
       "      <td>0.366897</td>\n",
       "    </tr>\n",
       "    <tr>\n",
       "      <th>2</th>\n",
       "      <td>0.012295</td>\n",
       "    </tr>\n",
       "    <tr>\n",
       "      <th>6</th>\n",
       "      <td>0.617719</td>\n",
       "    </tr>\n",
       "    <tr>\n",
       "      <th>7</th>\n",
       "      <td>0.832710</td>\n",
       "    </tr>\n",
       "    <tr>\n",
       "      <th>1</th>\n",
       "      <td>0.001678</td>\n",
       "    </tr>\n",
       "    <tr>\n",
       "      <th>8</th>\n",
       "      <td>0.953643</td>\n",
       "    </tr>\n",
       "    <tr>\n",
       "      <th>9</th>\n",
       "      <td>0.993953</td>\n",
       "    </tr>\n",
       "    <tr>\n",
       "      <th>4</th>\n",
       "      <td>0.166239</td>\n",
       "    </tr>\n",
       "  </tbody>\n",
       "</table>\n",
       "</div>"
      ],
      "text/plain": [
       "        CDF\n",
       "X          \n",
       "3  0.054762\n",
       "5  0.366897\n",
       "2  0.012295\n",
       "6  0.617719\n",
       "7  0.832710\n",
       "1  0.001678\n",
       "8  0.953643\n",
       "9  0.993953\n",
       "4  0.166239"
      ]
     },
     "execution_count": 52,
     "metadata": {},
     "output_type": "execute_result"
    }
   ],
   "source": [
    "rvs = stats.binom(10,0.6)\n",
    "x = np.array([3,5,2,6,7,1,8,9,4])\n",
    "f = rvs.cdf(x)\n",
    "pd.DataFrame({'X':x, 'CDF':f}).set_index('X')"
   ]
  },
  {
   "cell_type": "markdown",
   "id": "5ef1dcd4",
   "metadata": {},
   "source": [
    "### Poisson Random Variable"
   ]
  },
  {
   "cell_type": "code",
   "execution_count": 25,
   "id": "996da064",
   "metadata": {},
   "outputs": [
    {
     "data": {
      "text/plain": [
       "array([1, 1, 3, 1, 0, 0, 2, 0, 0, 0])"
      ]
     },
     "execution_count": 25,
     "metadata": {},
     "output_type": "execute_result"
    }
   ],
   "source": [
    "mu = 0.9\n",
    "X = stats.poisson.rvs(mu, size = 10)\n",
    "X"
   ]
  },
  {
   "cell_type": "code",
   "execution_count": 26,
   "id": "f6ee04b4",
   "metadata": {},
   "outputs": [
    {
     "data": {
      "image/png": "[encoded data removed]",
      "text/plain": [
       "<Figure size 432x288 with 1 Axes>"
      ]
     },
     "metadata": {
      "needs_background": "light"
     },
     "output_type": "display_data"
    }
   ],
   "source": [
    "X = stats.poisson.rvs(mu,size=(10, 5))\n",
    "plt.hist(X,bins='auto', density = True)\n",
    "plt.show()"
   ]
  },
  {
   "cell_type": "code",
   "execution_count": 34,
   "id": "c03e97f1",
   "metadata": {},
   "outputs": [
    {
     "data": {
      "text/html": [
       "<div>\n",
       "<style scoped>\n",
       "    .dataframe tbody tr th:only-of-type {\n",
       "        vertical-align: middle;\n",
       "    }\n",
       "\n",
       "    .dataframe tbody tr th {\n",
       "        vertical-align: top;\n",
       "    }\n",
       "\n",
       "    .dataframe thead th {\n",
       "        text-align: right;\n",
       "    }\n",
       "</style>\n",
       "<table border=\"1\" class=\"dataframe\">\n",
       "  <thead>\n",
       "    <tr style=\"text-align: right;\">\n",
       "      <th></th>\n",
       "      <th>PMF</th>\n",
       "    </tr>\n",
       "    <tr>\n",
       "      <th>X</th>\n",
       "      <th></th>\n",
       "    </tr>\n",
       "  </thead>\n",
       "  <tbody>\n",
       "    <tr>\n",
       "      <th>1</th>\n",
       "      <td>0.365913</td>\n",
       "    </tr>\n",
       "    <tr>\n",
       "      <th>1</th>\n",
       "      <td>0.365913</td>\n",
       "    </tr>\n",
       "    <tr>\n",
       "      <th>3</th>\n",
       "      <td>0.049398</td>\n",
       "    </tr>\n",
       "    <tr>\n",
       "      <th>1</th>\n",
       "      <td>0.365913</td>\n",
       "    </tr>\n",
       "    <tr>\n",
       "      <th>0</th>\n",
       "      <td>0.406570</td>\n",
       "    </tr>\n",
       "    <tr>\n",
       "      <th>0</th>\n",
       "      <td>0.406570</td>\n",
       "    </tr>\n",
       "    <tr>\n",
       "      <th>2</th>\n",
       "      <td>0.164661</td>\n",
       "    </tr>\n",
       "    <tr>\n",
       "      <th>0</th>\n",
       "      <td>0.406570</td>\n",
       "    </tr>\n",
       "    <tr>\n",
       "      <th>0</th>\n",
       "      <td>0.406570</td>\n",
       "    </tr>\n",
       "    <tr>\n",
       "      <th>0</th>\n",
       "      <td>0.406570</td>\n",
       "    </tr>\n",
       "  </tbody>\n",
       "</table>\n",
       "</div>"
      ],
      "text/plain": [
       "        PMF\n",
       "X          \n",
       "1  0.365913\n",
       "1  0.365913\n",
       "3  0.049398\n",
       "1  0.365913\n",
       "0  0.406570\n",
       "0  0.406570\n",
       "2  0.164661\n",
       "0  0.406570\n",
       "0  0.406570\n",
       "0  0.406570"
      ]
     },
     "execution_count": 34,
     "metadata": {},
     "output_type": "execute_result"
    }
   ],
   "source": [
    "rvs = stats.poisson(mu)\n",
    "x = np.array([1, 1, 3, 1, 0, 0, 2, 0, 0, 0])\n",
    "f = rvs.pmf(x)\n",
    "pd.DataFrame({'X':x, 'PMF':f}).set_index('X')"
   ]
  },
  {
   "cell_type": "code",
   "execution_count": 53,
   "id": "8176a744",
   "metadata": {},
   "outputs": [
    {
     "data": {
      "text/html": [
       "<div>\n",
       "<style scoped>\n",
       "    .dataframe tbody tr th:only-of-type {\n",
       "        vertical-align: middle;\n",
       "    }\n",
       "\n",
       "    .dataframe tbody tr th {\n",
       "        vertical-align: top;\n",
       "    }\n",
       "\n",
       "    .dataframe thead th {\n",
       "        text-align: right;\n",
       "    }\n",
       "</style>\n",
       "<table border=\"1\" class=\"dataframe\">\n",
       "  <thead>\n",
       "    <tr style=\"text-align: right;\">\n",
       "      <th></th>\n",
       "      <th>CDF</th>\n",
       "    </tr>\n",
       "    <tr>\n",
       "      <th>X</th>\n",
       "      <th></th>\n",
       "    </tr>\n",
       "  </thead>\n",
       "  <tbody>\n",
       "    <tr>\n",
       "      <th>1</th>\n",
       "      <td>0.772482</td>\n",
       "    </tr>\n",
       "    <tr>\n",
       "      <th>1</th>\n",
       "      <td>0.772482</td>\n",
       "    </tr>\n",
       "    <tr>\n",
       "      <th>3</th>\n",
       "      <td>0.986541</td>\n",
       "    </tr>\n",
       "    <tr>\n",
       "      <th>1</th>\n",
       "      <td>0.772482</td>\n",
       "    </tr>\n",
       "    <tr>\n",
       "      <th>0</th>\n",
       "      <td>0.406570</td>\n",
       "    </tr>\n",
       "    <tr>\n",
       "      <th>0</th>\n",
       "      <td>0.406570</td>\n",
       "    </tr>\n",
       "    <tr>\n",
       "      <th>2</th>\n",
       "      <td>0.937143</td>\n",
       "    </tr>\n",
       "    <tr>\n",
       "      <th>0</th>\n",
       "      <td>0.406570</td>\n",
       "    </tr>\n",
       "    <tr>\n",
       "      <th>0</th>\n",
       "      <td>0.406570</td>\n",
       "    </tr>\n",
       "    <tr>\n",
       "      <th>0</th>\n",
       "      <td>0.406570</td>\n",
       "    </tr>\n",
       "  </tbody>\n",
       "</table>\n",
       "</div>"
      ],
      "text/plain": [
       "        CDF\n",
       "X          \n",
       "1  0.772482\n",
       "1  0.772482\n",
       "3  0.986541\n",
       "1  0.772482\n",
       "0  0.406570\n",
       "0  0.406570\n",
       "2  0.937143\n",
       "0  0.406570\n",
       "0  0.406570\n",
       "0  0.406570"
      ]
     },
     "execution_count": 53,
     "metadata": {},
     "output_type": "execute_result"
    }
   ],
   "source": [
    "rvs = stats.poisson(mu)\n",
    "x = np.array([1, 1, 3, 1, 0, 0, 2, 0, 0, 0])\n",
    "f = rvs.cdf(x)\n",
    "pd.DataFrame({'X':x, 'CDF':f}).set_index('X')"
   ]
  },
  {
   "cell_type": "markdown",
   "id": "bd6071f2",
   "metadata": {},
   "source": [
    "### Hypergeometric Random variable"
   ]
  },
  {
   "cell_type": "code",
   "execution_count": 41,
   "id": "06154bea",
   "metadata": {},
   "outputs": [
    {
     "data": {
      "text/plain": [
       "array([6, 4, 6, 5, 6, 6, 6, 6, 5, 7, 8, 6, 5, 8, 7])"
      ]
     },
     "execution_count": 41,
     "metadata": {},
     "output_type": "execute_result"
    }
   ],
   "source": [
    "[M, n, N] = [20, 9, 12]\n",
    "X = stats.hypergeom.rvs(M, n, N, size = 15)\n",
    "X"
   ]
  },
  {
   "cell_type": "code",
   "execution_count": 43,
   "id": "70725c5d",
   "metadata": {},
   "outputs": [
    {
     "data": {
      "image/png": "[encoded data removed]",
      "text/plain": [
       "<Figure size 432x288 with 1 Axes>"
      ]
     },
     "metadata": {
      "needs_background": "light"
     },
     "output_type": "display_data"
    }
   ],
   "source": [
    "X = stats.hypergeom.rvs(M, n, N, size = (15,5))\n",
    "plt.hist(X,bins='auto', density = True)\n",
    "plt.show()"
   ]
  },
  {
   "cell_type": "code",
   "execution_count": 45,
   "id": "ea61cdc9",
   "metadata": {},
   "outputs": [
    {
     "data": {
      "text/html": [
       "<div>\n",
       "<style scoped>\n",
       "    .dataframe tbody tr th:only-of-type {\n",
       "        vertical-align: middle;\n",
       "    }\n",
       "\n",
       "    .dataframe tbody tr th {\n",
       "        vertical-align: top;\n",
       "    }\n",
       "\n",
       "    .dataframe thead th {\n",
       "        text-align: right;\n",
       "    }\n",
       "</style>\n",
       "<table border=\"1\" class=\"dataframe\">\n",
       "  <thead>\n",
       "    <tr style=\"text-align: right;\">\n",
       "      <th></th>\n",
       "      <th>PMF</th>\n",
       "    </tr>\n",
       "    <tr>\n",
       "      <th>X</th>\n",
       "      <th></th>\n",
       "    </tr>\n",
       "  </thead>\n",
       "  <tbody>\n",
       "    <tr>\n",
       "      <th>6</th>\n",
       "      <td>0.308073</td>\n",
       "    </tr>\n",
       "    <tr>\n",
       "      <th>4</th>\n",
       "      <td>0.165039</td>\n",
       "    </tr>\n",
       "    <tr>\n",
       "      <th>6</th>\n",
       "      <td>0.308073</td>\n",
       "    </tr>\n",
       "    <tr>\n",
       "      <th>5</th>\n",
       "      <td>0.330079</td>\n",
       "    </tr>\n",
       "    <tr>\n",
       "      <th>3</th>\n",
       "      <td>0.036675</td>\n",
       "    </tr>\n",
       "    <tr>\n",
       "      <th>2</th>\n",
       "      <td>0.003144</td>\n",
       "    </tr>\n",
       "    <tr>\n",
       "      <th>0</th>\n",
       "      <td>0.000000</td>\n",
       "    </tr>\n",
       "    <tr>\n",
       "      <th>1</th>\n",
       "      <td>0.000071</td>\n",
       "    </tr>\n",
       "    <tr>\n",
       "      <th>5</th>\n",
       "      <td>0.330079</td>\n",
       "    </tr>\n",
       "    <tr>\n",
       "      <th>7</th>\n",
       "      <td>0.132031</td>\n",
       "    </tr>\n",
       "    <tr>\n",
       "      <th>9</th>\n",
       "      <td>0.001310</td>\n",
       "    </tr>\n",
       "    <tr>\n",
       "      <th>6</th>\n",
       "      <td>0.308073</td>\n",
       "    </tr>\n",
       "    <tr>\n",
       "      <th>5</th>\n",
       "      <td>0.330079</td>\n",
       "    </tr>\n",
       "    <tr>\n",
       "      <th>8</th>\n",
       "      <td>0.023577</td>\n",
       "    </tr>\n",
       "    <tr>\n",
       "      <th>17</th>\n",
       "      <td>0.000000</td>\n",
       "    </tr>\n",
       "  </tbody>\n",
       "</table>\n",
       "</div>"
      ],
      "text/plain": [
       "         PMF\n",
       "X           \n",
       "6   0.308073\n",
       "4   0.165039\n",
       "6   0.308073\n",
       "5   0.330079\n",
       "3   0.036675\n",
       "2   0.003144\n",
       "0   0.000000\n",
       "1   0.000071\n",
       "5   0.330079\n",
       "7   0.132031\n",
       "9   0.001310\n",
       "6   0.308073\n",
       "5   0.330079\n",
       "8   0.023577\n",
       "17  0.000000"
      ]
     },
     "execution_count": 45,
     "metadata": {},
     "output_type": "execute_result"
    }
   ],
   "source": [
    "rvs = stats.hypergeom(M, n, N)\n",
    "x = np.array([6, 4, 6, 5, 3, 2, 0, 1, 5, 7, 9, 6, 5, 8, 17])\n",
    "f = rvs.pmf(x)\n",
    "pd.DataFrame({'X':x, 'PMF':f}).set_index('X')"
   ]
  },
  {
   "cell_type": "code",
   "execution_count": 54,
   "id": "824666c8",
   "metadata": {},
   "outputs": [
    {
     "data": {
      "text/html": [
       "<div>\n",
       "<style scoped>\n",
       "    .dataframe tbody tr th:only-of-type {\n",
       "        vertical-align: middle;\n",
       "    }\n",
       "\n",
       "    .dataframe tbody tr th {\n",
       "        vertical-align: top;\n",
       "    }\n",
       "\n",
       "    .dataframe thead th {\n",
       "        text-align: right;\n",
       "    }\n",
       "</style>\n",
       "<table border=\"1\" class=\"dataframe\">\n",
       "  <thead>\n",
       "    <tr style=\"text-align: right;\">\n",
       "      <th></th>\n",
       "      <th>CDF</th>\n",
       "    </tr>\n",
       "    <tr>\n",
       "      <th>X</th>\n",
       "      <th></th>\n",
       "    </tr>\n",
       "  </thead>\n",
       "  <tbody>\n",
       "    <tr>\n",
       "      <th>6</th>\n",
       "      <td>1.000000</td>\n",
       "    </tr>\n",
       "    <tr>\n",
       "      <th>4</th>\n",
       "      <td>0.948916</td>\n",
       "    </tr>\n",
       "    <tr>\n",
       "      <th>6</th>\n",
       "      <td>1.000000</td>\n",
       "    </tr>\n",
       "    <tr>\n",
       "      <th>5</th>\n",
       "      <td>1.000000</td>\n",
       "    </tr>\n",
       "    <tr>\n",
       "      <th>3</th>\n",
       "      <td>0.693498</td>\n",
       "    </tr>\n",
       "    <tr>\n",
       "      <th>2</th>\n",
       "      <td>0.296182</td>\n",
       "    </tr>\n",
       "    <tr>\n",
       "      <th>0</th>\n",
       "      <td>0.003612</td>\n",
       "    </tr>\n",
       "    <tr>\n",
       "      <th>1</th>\n",
       "      <td>0.057792</td>\n",
       "    </tr>\n",
       "    <tr>\n",
       "      <th>5</th>\n",
       "      <td>1.000000</td>\n",
       "    </tr>\n",
       "    <tr>\n",
       "      <th>7</th>\n",
       "      <td>1.000000</td>\n",
       "    </tr>\n",
       "    <tr>\n",
       "      <th>9</th>\n",
       "      <td>1.000000</td>\n",
       "    </tr>\n",
       "    <tr>\n",
       "      <th>6</th>\n",
       "      <td>1.000000</td>\n",
       "    </tr>\n",
       "    <tr>\n",
       "      <th>5</th>\n",
       "      <td>1.000000</td>\n",
       "    </tr>\n",
       "    <tr>\n",
       "      <th>8</th>\n",
       "      <td>1.000000</td>\n",
       "    </tr>\n",
       "    <tr>\n",
       "      <th>17</th>\n",
       "      <td>1.000000</td>\n",
       "    </tr>\n",
       "  </tbody>\n",
       "</table>\n",
       "</div>"
      ],
      "text/plain": [
       "         CDF\n",
       "X           \n",
       "6   1.000000\n",
       "4   0.948916\n",
       "6   1.000000\n",
       "5   1.000000\n",
       "3   0.693498\n",
       "2   0.296182\n",
       "0   0.003612\n",
       "1   0.057792\n",
       "5   1.000000\n",
       "7   1.000000\n",
       "9   1.000000\n",
       "6   1.000000\n",
       "5   1.000000\n",
       "8   1.000000\n",
       "17  1.000000"
      ]
     },
     "execution_count": 54,
     "metadata": {},
     "output_type": "execute_result"
    }
   ],
   "source": [
    "rvs = stats.hypergeom(M, n, N)\n",
    "x = np.array([6, 4, 6, 5, 3, 2, 0, 1, 5, 7, 9, 6, 5, 8, 17])\n",
    "f = rvs.cdf(x)\n",
    "pd.DataFrame({'X':x, 'CDF':f}).set_index('X')"
   ]
  },
  {
   "cell_type": "markdown",
   "id": "5b69c769",
   "metadata": {},
   "source": [
    "### Negative Binomial Random Variable"
   ]
  },
  {
   "cell_type": "code",
   "execution_count": 61,
   "id": "fadeb215",
   "metadata": {},
   "outputs": [
    {
     "data": {
      "text/plain": [
       "array([21, 27,  8,  9, 12, 17,  7, 10,  1,  3])"
      ]
     },
     "execution_count": 61,
     "metadata": {},
     "output_type": "execute_result"
    }
   ],
   "source": [
    "n, p = 5, 0.3\n",
    "X = stats.nbinom.rvs(n,p, size = 10)\n",
    "X"
   ]
  },
  {
   "cell_type": "code",
   "execution_count": 62,
   "id": "ef6a0284",
   "metadata": {},
   "outputs": [
    {
     "data": {
      "text/html": [
       "<div>\n",
       "<style scoped>\n",
       "    .dataframe tbody tr th:only-of-type {\n",
       "        vertical-align: middle;\n",
       "    }\n",
       "\n",
       "    .dataframe tbody tr th {\n",
       "        vertical-align: top;\n",
       "    }\n",
       "\n",
       "    .dataframe thead th {\n",
       "        text-align: right;\n",
       "    }\n",
       "</style>\n",
       "<table border=\"1\" class=\"dataframe\">\n",
       "  <thead>\n",
       "    <tr style=\"text-align: right;\">\n",
       "      <th></th>\n",
       "      <th>PMF</th>\n",
       "    </tr>\n",
       "    <tr>\n",
       "      <th>X</th>\n",
       "      <th></th>\n",
       "    </tr>\n",
       "  </thead>\n",
       "  <tbody>\n",
       "    <tr>\n",
       "      <th>7</th>\n",
       "      <td>0.066040</td>\n",
       "    </tr>\n",
       "    <tr>\n",
       "      <th>8</th>\n",
       "      <td>0.069342</td>\n",
       "    </tr>\n",
       "    <tr>\n",
       "      <th>2</th>\n",
       "      <td>0.017860</td>\n",
       "    </tr>\n",
       "    <tr>\n",
       "      <th>11</th>\n",
       "      <td>0.065587</td>\n",
       "    </tr>\n",
       "    <tr>\n",
       "      <th>4</th>\n",
       "      <td>0.040841</td>\n",
       "    </tr>\n",
       "    <tr>\n",
       "      <th>9</th>\n",
       "      <td>0.070112</td>\n",
       "    </tr>\n",
       "    <tr>\n",
       "      <th>10</th>\n",
       "      <td>0.068710</td>\n",
       "    </tr>\n",
       "    <tr>\n",
       "      <th>13</th>\n",
       "      <td>0.056035</td>\n",
       "    </tr>\n",
       "    <tr>\n",
       "      <th>6</th>\n",
       "      <td>0.060036</td>\n",
       "    </tr>\n",
       "    <tr>\n",
       "      <th>4</th>\n",
       "      <td>0.040841</td>\n",
       "    </tr>\n",
       "  </tbody>\n",
       "</table>\n",
       "</div>"
      ],
      "text/plain": [
       "         PMF\n",
       "X           \n",
       "7   0.066040\n",
       "8   0.069342\n",
       "2   0.017860\n",
       "11  0.065587\n",
       "4   0.040841\n",
       "9   0.070112\n",
       "10  0.068710\n",
       "13  0.056035\n",
       "6   0.060036\n",
       "4   0.040841"
      ]
     },
     "execution_count": 62,
     "metadata": {},
     "output_type": "execute_result"
    }
   ],
   "source": [
    "rvs = stats.nbinom(n,p)\n",
    "x = np.array([ 7,  8,  2, 11,  4,  9, 10, 13,  6,  4])\n",
    "f = rvs.pmf(x)\n",
    "pd.DataFrame({'X':x, 'PMF':f}).set_index('X')"
   ]
  },
  {
   "cell_type": "code",
   "execution_count": 55,
   "id": "97bcd204",
   "metadata": {},
   "outputs": [
    {
     "data": {
      "text/html": [
       "<div>\n",
       "<style scoped>\n",
       "    .dataframe tbody tr th:only-of-type {\n",
       "        vertical-align: middle;\n",
       "    }\n",
       "\n",
       "    .dataframe tbody tr th {\n",
       "        vertical-align: top;\n",
       "    }\n",
       "\n",
       "    .dataframe thead th {\n",
       "        text-align: right;\n",
       "    }\n",
       "</style>\n",
       "<table border=\"1\" class=\"dataframe\">\n",
       "  <thead>\n",
       "    <tr style=\"text-align: right;\">\n",
       "      <th></th>\n",
       "      <th>CDF</th>\n",
       "    </tr>\n",
       "    <tr>\n",
       "      <th>X</th>\n",
       "      <th></th>\n",
       "    </tr>\n",
       "  </thead>\n",
       "  <tbody>\n",
       "    <tr>\n",
       "      <th>7</th>\n",
       "      <td>0.806152</td>\n",
       "    </tr>\n",
       "    <tr>\n",
       "      <th>8</th>\n",
       "      <td>0.866577</td>\n",
       "    </tr>\n",
       "    <tr>\n",
       "      <th>2</th>\n",
       "      <td>0.226562</td>\n",
       "    </tr>\n",
       "    <tr>\n",
       "      <th>11</th>\n",
       "      <td>0.961594</td>\n",
       "    </tr>\n",
       "    <tr>\n",
       "      <th>4</th>\n",
       "      <td>0.500000</td>\n",
       "    </tr>\n",
       "    <tr>\n",
       "      <th>9</th>\n",
       "      <td>0.910217</td>\n",
       "    </tr>\n",
       "    <tr>\n",
       "      <th>10</th>\n",
       "      <td>0.940765</td>\n",
       "    </tr>\n",
       "    <tr>\n",
       "      <th>13</th>\n",
       "      <td>0.984558</td>\n",
       "    </tr>\n",
       "    <tr>\n",
       "      <th>6</th>\n",
       "      <td>0.725586</td>\n",
       "    </tr>\n",
       "    <tr>\n",
       "      <th>4</th>\n",
       "      <td>0.500000</td>\n",
       "    </tr>\n",
       "  </tbody>\n",
       "</table>\n",
       "</div>"
      ],
      "text/plain": [
       "         CDF\n",
       "X           \n",
       "7   0.806152\n",
       "8   0.866577\n",
       "2   0.226562\n",
       "11  0.961594\n",
       "4   0.500000\n",
       "9   0.910217\n",
       "10  0.940765\n",
       "13  0.984558\n",
       "6   0.725586\n",
       "4   0.500000"
      ]
     },
     "execution_count": 55,
     "metadata": {},
     "output_type": "execute_result"
    }
   ],
   "source": [
    "rvs = stats.nbinom(n,p)\n",
    "x = np.array([ 7,  8,  2, 11,  4,  9, 10, 13,  6,  4])\n",
    "f = rvs.cdf(x)\n",
    "pd.DataFrame({'X':x, 'CDF':f}).set_index('X')"
   ]
  },
  {
   "cell_type": "markdown",
   "id": "62de6346",
   "metadata": {},
   "source": [
    "### Geometric Random Variable"
   ]
  },
  {
   "cell_type": "code",
   "execution_count": 66,
   "id": "512abb1e",
   "metadata": {},
   "outputs": [
    {
     "data": {
      "text/plain": [
       "array([1, 1, 1, 1, 3, 5, 3, 1, 1, 2, 2, 6, 2, 1, 4])"
      ]
     },
     "execution_count": 66,
     "metadata": {},
     "output_type": "execute_result"
    }
   ],
   "source": [
    "p = 0.5\n",
    "X = stats.geom.rvs(p, size = 15)\n",
    "X"
   ]
  },
  {
   "cell_type": "code",
   "execution_count": 63,
   "id": "f649d22e",
   "metadata": {},
   "outputs": [
    {
     "data": {
      "image/png": "[encoded data removed]",
      "text/plain": [
       "<Figure size 432x288 with 1 Axes>"
      ]
     },
     "metadata": {
      "needs_background": "light"
     },
     "output_type": "display_data"
    }
   ],
   "source": [
    "X = stats.geom.rvs(p,size=(10, 5))\n",
    "plt.hist(X,bins='auto', density = True)\n",
    "plt.show()"
   ]
  },
  {
   "cell_type": "code",
   "execution_count": 67,
   "id": "33a2292a",
   "metadata": {},
   "outputs": [
    {
     "data": {
      "text/html": [
       "<div>\n",
       "<style scoped>\n",
       "    .dataframe tbody tr th:only-of-type {\n",
       "        vertical-align: middle;\n",
       "    }\n",
       "\n",
       "    .dataframe tbody tr th {\n",
       "        vertical-align: top;\n",
       "    }\n",
       "\n",
       "    .dataframe thead th {\n",
       "        text-align: right;\n",
       "    }\n",
       "</style>\n",
       "<table border=\"1\" class=\"dataframe\">\n",
       "  <thead>\n",
       "    <tr style=\"text-align: right;\">\n",
       "      <th></th>\n",
       "      <th>PMF</th>\n",
       "    </tr>\n",
       "    <tr>\n",
       "      <th>X</th>\n",
       "      <th></th>\n",
       "    </tr>\n",
       "  </thead>\n",
       "  <tbody>\n",
       "    <tr>\n",
       "      <th>1</th>\n",
       "      <td>0.700000</td>\n",
       "    </tr>\n",
       "    <tr>\n",
       "      <th>3</th>\n",
       "      <td>0.063000</td>\n",
       "    </tr>\n",
       "    <tr>\n",
       "      <th>5</th>\n",
       "      <td>0.005670</td>\n",
       "    </tr>\n",
       "    <tr>\n",
       "      <th>3</th>\n",
       "      <td>0.063000</td>\n",
       "    </tr>\n",
       "    <tr>\n",
       "      <th>7</th>\n",
       "      <td>0.000510</td>\n",
       "    </tr>\n",
       "    <tr>\n",
       "      <th>9</th>\n",
       "      <td>0.000046</td>\n",
       "    </tr>\n",
       "    <tr>\n",
       "      <th>2</th>\n",
       "      <td>0.210000</td>\n",
       "    </tr>\n",
       "    <tr>\n",
       "      <th>12</th>\n",
       "      <td>0.000001</td>\n",
       "    </tr>\n",
       "    <tr>\n",
       "      <th>6</th>\n",
       "      <td>0.001701</td>\n",
       "    </tr>\n",
       "    <tr>\n",
       "      <th>2</th>\n",
       "      <td>0.210000</td>\n",
       "    </tr>\n",
       "    <tr>\n",
       "      <th>11</th>\n",
       "      <td>0.000004</td>\n",
       "    </tr>\n",
       "    <tr>\n",
       "      <th>4</th>\n",
       "      <td>0.018900</td>\n",
       "    </tr>\n",
       "  </tbody>\n",
       "</table>\n",
       "</div>"
      ],
      "text/plain": [
       "         PMF\n",
       "X           \n",
       "1   0.700000\n",
       "3   0.063000\n",
       "5   0.005670\n",
       "3   0.063000\n",
       "7   0.000510\n",
       "9   0.000046\n",
       "2   0.210000\n",
       "12  0.000001\n",
       "6   0.001701\n",
       "2   0.210000\n",
       "11  0.000004\n",
       "4   0.018900"
      ]
     },
     "execution_count": 67,
     "metadata": {},
     "output_type": "execute_result"
    }
   ],
   "source": [
    "rvs = stats.geom(0.7)\n",
    "x = np.array([1, 3, 5, 3, 7, 9, 2, 12, 6, 2, 11, 4])\n",
    "f = rvs.pmf(x)\n",
    "pd.DataFrame({'X':x, 'PMF':f}).set_index('X')"
   ]
  },
  {
   "cell_type": "code",
   "execution_count": 68,
   "id": "1a0b7443",
   "metadata": {},
   "outputs": [
    {
     "data": {
      "text/html": [
       "<div>\n",
       "<style scoped>\n",
       "    .dataframe tbody tr th:only-of-type {\n",
       "        vertical-align: middle;\n",
       "    }\n",
       "\n",
       "    .dataframe tbody tr th {\n",
       "        vertical-align: top;\n",
       "    }\n",
       "\n",
       "    .dataframe thead th {\n",
       "        text-align: right;\n",
       "    }\n",
       "</style>\n",
       "<table border=\"1\" class=\"dataframe\">\n",
       "  <thead>\n",
       "    <tr style=\"text-align: right;\">\n",
       "      <th></th>\n",
       "      <th>CDF</th>\n",
       "    </tr>\n",
       "    <tr>\n",
       "      <th>X</th>\n",
       "      <th></th>\n",
       "    </tr>\n",
       "  </thead>\n",
       "  <tbody>\n",
       "    <tr>\n",
       "      <th>1</th>\n",
       "      <td>0.700000</td>\n",
       "    </tr>\n",
       "    <tr>\n",
       "      <th>3</th>\n",
       "      <td>0.973000</td>\n",
       "    </tr>\n",
       "    <tr>\n",
       "      <th>5</th>\n",
       "      <td>0.997570</td>\n",
       "    </tr>\n",
       "    <tr>\n",
       "      <th>3</th>\n",
       "      <td>0.973000</td>\n",
       "    </tr>\n",
       "    <tr>\n",
       "      <th>7</th>\n",
       "      <td>0.999781</td>\n",
       "    </tr>\n",
       "    <tr>\n",
       "      <th>9</th>\n",
       "      <td>0.999980</td>\n",
       "    </tr>\n",
       "    <tr>\n",
       "      <th>2</th>\n",
       "      <td>0.910000</td>\n",
       "    </tr>\n",
       "    <tr>\n",
       "      <th>12</th>\n",
       "      <td>0.999999</td>\n",
       "    </tr>\n",
       "    <tr>\n",
       "      <th>6</th>\n",
       "      <td>0.999271</td>\n",
       "    </tr>\n",
       "    <tr>\n",
       "      <th>2</th>\n",
       "      <td>0.910000</td>\n",
       "    </tr>\n",
       "    <tr>\n",
       "      <th>11</th>\n",
       "      <td>0.999998</td>\n",
       "    </tr>\n",
       "    <tr>\n",
       "      <th>4</th>\n",
       "      <td>0.991900</td>\n",
       "    </tr>\n",
       "  </tbody>\n",
       "</table>\n",
       "</div>"
      ],
      "text/plain": [
       "         CDF\n",
       "X           \n",
       "1   0.700000\n",
       "3   0.973000\n",
       "5   0.997570\n",
       "3   0.973000\n",
       "7   0.999781\n",
       "9   0.999980\n",
       "2   0.910000\n",
       "12  0.999999\n",
       "6   0.999271\n",
       "2   0.910000\n",
       "11  0.999998\n",
       "4   0.991900"
      ]
     },
     "execution_count": 68,
     "metadata": {},
     "output_type": "execute_result"
    }
   ],
   "source": [
    "rvs = stats.geom(0.7)\n",
    "x = np.array([1, 3, 5, 3, 7, 9, 2, 12, 6, 2, 11, 4])\n",
    "f = rvs.cdf(x)\n",
    "pd.DataFrame({'X':x, 'CDF':f}).set_index('X')"
   ]
  },
  {
   "cell_type": "markdown",
   "id": "04befd51",
   "metadata": {},
   "source": [
    "## Continuous Random Variables\n",
    "### Uniform Random Variable"
   ]
  },
  {
   "cell_type": "code",
   "execution_count": 70,
   "id": "124b117d",
   "metadata": {},
   "outputs": [
    {
     "data": {
      "text/plain": [
       "array([2.7876148 , 1.63217734, 1.99497524, 0.57975038, 0.24885666,\n",
       "       1.12437073, 0.83113487, 2.46553164, 2.64805239, 2.80716042,\n",
       "       1.85293077, 2.91126693, 1.67262343, 2.82379006, 1.39159131])"
      ]
     },
     "execution_count": 70,
     "metadata": {},
     "output_type": "execute_result"
    }
   ],
   "source": [
    "X = stats.uniform.rvs(0,3,size = 15)\n",
    "X"
   ]
  },
  {
   "cell_type": "code",
   "execution_count": 71,
   "id": "27431681",
   "metadata": {},
   "outputs": [
    {
     "data": {
      "image/png": "[encoded data removed]",
      "text/plain": [
       "<Figure size 432x288 with 1 Axes>"
      ]
     },
     "metadata": {
      "needs_background": "light"
     },
     "output_type": "display_data"
    }
   ],
   "source": [
    "X = stats.uniform.rvs(0,3, size = (15,5))\n",
    "plt.hist(X,bins='auto', density = True)\n",
    "plt.show()"
   ]
  },
  {
   "cell_type": "code",
   "execution_count": 73,
   "id": "17b692ad",
   "metadata": {},
   "outputs": [
    {
     "data": {
      "text/html": [
       "<div>\n",
       "<style scoped>\n",
       "    .dataframe tbody tr th:only-of-type {\n",
       "        vertical-align: middle;\n",
       "    }\n",
       "\n",
       "    .dataframe tbody tr th {\n",
       "        vertical-align: top;\n",
       "    }\n",
       "\n",
       "    .dataframe thead th {\n",
       "        text-align: right;\n",
       "    }\n",
       "</style>\n",
       "<table border=\"1\" class=\"dataframe\">\n",
       "  <thead>\n",
       "    <tr style=\"text-align: right;\">\n",
       "      <th></th>\n",
       "      <th>PDF</th>\n",
       "    </tr>\n",
       "    <tr>\n",
       "      <th>X</th>\n",
       "      <th></th>\n",
       "    </tr>\n",
       "  </thead>\n",
       "  <tbody>\n",
       "    <tr>\n",
       "      <th>2.787615</th>\n",
       "      <td>0.333333</td>\n",
       "    </tr>\n",
       "    <tr>\n",
       "      <th>1.632177</th>\n",
       "      <td>0.333333</td>\n",
       "    </tr>\n",
       "    <tr>\n",
       "      <th>1.994975</th>\n",
       "      <td>0.333333</td>\n",
       "    </tr>\n",
       "    <tr>\n",
       "      <th>0.579750</th>\n",
       "      <td>0.333333</td>\n",
       "    </tr>\n",
       "    <tr>\n",
       "      <th>0.248857</th>\n",
       "      <td>0.333333</td>\n",
       "    </tr>\n",
       "    <tr>\n",
       "      <th>1.124371</th>\n",
       "      <td>0.333333</td>\n",
       "    </tr>\n",
       "    <tr>\n",
       "      <th>0.831135</th>\n",
       "      <td>0.333333</td>\n",
       "    </tr>\n",
       "    <tr>\n",
       "      <th>2.465532</th>\n",
       "      <td>0.333333</td>\n",
       "    </tr>\n",
       "    <tr>\n",
       "      <th>2.648052</th>\n",
       "      <td>0.333333</td>\n",
       "    </tr>\n",
       "    <tr>\n",
       "      <th>2.807160</th>\n",
       "      <td>0.333333</td>\n",
       "    </tr>\n",
       "    <tr>\n",
       "      <th>1.852931</th>\n",
       "      <td>0.333333</td>\n",
       "    </tr>\n",
       "  </tbody>\n",
       "</table>\n",
       "</div>"
      ],
      "text/plain": [
       "               PDF\n",
       "X                 \n",
       "2.787615  0.333333\n",
       "1.632177  0.333333\n",
       "1.994975  0.333333\n",
       "0.579750  0.333333\n",
       "0.248857  0.333333\n",
       "1.124371  0.333333\n",
       "0.831135  0.333333\n",
       "2.465532  0.333333\n",
       "2.648052  0.333333\n",
       "2.807160  0.333333\n",
       "1.852931  0.333333"
      ]
     },
     "execution_count": 73,
     "metadata": {},
     "output_type": "execute_result"
    }
   ],
   "source": [
    "rvs = stats.uniform(0,3)\n",
    "x = np.array([2.7876148 , 1.63217734, 1.99497524, 0.57975038, 0.24885666,\n",
    "       1.12437073, 0.83113487, 2.46553164, 2.64805239, 2.80716042,\n",
    "       1.85293077])\n",
    "f = rvs.pdf(x)\n",
    "pd.DataFrame({'X':x, 'PDF':f}).set_index('X')"
   ]
  },
  {
   "cell_type": "code",
   "execution_count": 74,
   "id": "7a7566e6",
   "metadata": {},
   "outputs": [
    {
     "data": {
      "text/html": [
       "<div>\n",
       "<style scoped>\n",
       "    .dataframe tbody tr th:only-of-type {\n",
       "        vertical-align: middle;\n",
       "    }\n",
       "\n",
       "    .dataframe tbody tr th {\n",
       "        vertical-align: top;\n",
       "    }\n",
       "\n",
       "    .dataframe thead th {\n",
       "        text-align: right;\n",
       "    }\n",
       "</style>\n",
       "<table border=\"1\" class=\"dataframe\">\n",
       "  <thead>\n",
       "    <tr style=\"text-align: right;\">\n",
       "      <th></th>\n",
       "      <th>PDF</th>\n",
       "    </tr>\n",
       "    <tr>\n",
       "      <th>X</th>\n",
       "      <th></th>\n",
       "    </tr>\n",
       "  </thead>\n",
       "  <tbody>\n",
       "    <tr>\n",
       "      <th>2.787615</th>\n",
       "      <td>0.929205</td>\n",
       "    </tr>\n",
       "    <tr>\n",
       "      <th>1.632177</th>\n",
       "      <td>0.544059</td>\n",
       "    </tr>\n",
       "    <tr>\n",
       "      <th>1.994975</th>\n",
       "      <td>0.664992</td>\n",
       "    </tr>\n",
       "    <tr>\n",
       "      <th>0.579750</th>\n",
       "      <td>0.193250</td>\n",
       "    </tr>\n",
       "    <tr>\n",
       "      <th>0.248857</th>\n",
       "      <td>0.082952</td>\n",
       "    </tr>\n",
       "    <tr>\n",
       "      <th>1.124371</th>\n",
       "      <td>0.374790</td>\n",
       "    </tr>\n",
       "    <tr>\n",
       "      <th>0.831135</th>\n",
       "      <td>0.277045</td>\n",
       "    </tr>\n",
       "    <tr>\n",
       "      <th>2.465532</th>\n",
       "      <td>0.821844</td>\n",
       "    </tr>\n",
       "    <tr>\n",
       "      <th>2.648052</th>\n",
       "      <td>0.882684</td>\n",
       "    </tr>\n",
       "    <tr>\n",
       "      <th>2.807160</th>\n",
       "      <td>0.935720</td>\n",
       "    </tr>\n",
       "    <tr>\n",
       "      <th>1.852931</th>\n",
       "      <td>0.617644</td>\n",
       "    </tr>\n",
       "  </tbody>\n",
       "</table>\n",
       "</div>"
      ],
      "text/plain": [
       "               PDF\n",
       "X                 \n",
       "2.787615  0.929205\n",
       "1.632177  0.544059\n",
       "1.994975  0.664992\n",
       "0.579750  0.193250\n",
       "0.248857  0.082952\n",
       "1.124371  0.374790\n",
       "0.831135  0.277045\n",
       "2.465532  0.821844\n",
       "2.648052  0.882684\n",
       "2.807160  0.935720\n",
       "1.852931  0.617644"
      ]
     },
     "execution_count": 74,
     "metadata": {},
     "output_type": "execute_result"
    }
   ],
   "source": [
    "rvs = stats.uniform(0,3)\n",
    "x = np.array([2.7876148 , 1.63217734, 1.99497524, 0.57975038, 0.24885666,\n",
    "       1.12437073, 0.83113487, 2.46553164, 2.64805239, 2.80716042,\n",
    "       1.85293077])\n",
    "f = rvs.cdf(x)\n",
    "pd.DataFrame({'X':x, 'PDF':f}).set_index('X')"
   ]
  },
  {
   "cell_type": "markdown",
   "id": "ff3b1c89",
   "metadata": {},
   "source": [
    "### Normal Random Variable"
   ]
  },
  {
   "cell_type": "code",
   "execution_count": 82,
   "id": "ec3d618e",
   "metadata": {},
   "outputs": [
    {
     "data": {
      "text/plain": [
       "array([ -2.49104357,   1.51634617,   2.75165086,   2.09679638,\n",
       "         1.59202216,   3.57933415,   9.23135096, -16.63256318,\n",
       "        28.4354427 ,  15.02049407,   0.09995504,  -2.20579736,\n",
       "       -15.07772706,  -5.95034598,   7.25156649])"
      ]
     },
     "execution_count": 82,
     "metadata": {},
     "output_type": "execute_result"
    }
   ],
   "source": [
    "X = stats.norm.rvs(2,9,size = 15)\n",
    "X"
   ]
  },
  {
   "cell_type": "code",
   "execution_count": 88,
   "id": "6ca8e288",
   "metadata": {},
   "outputs": [
    {
     "data": {
      "image/png": "[encoded data removed]",
      "text/plain": [
       "<Figure size 432x288 with 1 Axes>"
      ]
     },
     "metadata": {
      "needs_background": "light"
     },
     "output_type": "display_data"
    }
   ],
   "source": [
    "X = stats.norm.rvs(0,3, size = (150,5))\n",
    "plt.hist(X,bins='auto', density = True)\n",
    "plt.show()"
   ]
  },
  {
   "cell_type": "code",
   "execution_count": 89,
   "id": "7e20cfa6",
   "metadata": {},
   "outputs": [
    {
     "data": {
      "text/html": [
       "<div>\n",
       "<style scoped>\n",
       "    .dataframe tbody tr th:only-of-type {\n",
       "        vertical-align: middle;\n",
       "    }\n",
       "\n",
       "    .dataframe tbody tr th {\n",
       "        vertical-align: top;\n",
       "    }\n",
       "\n",
       "    .dataframe thead th {\n",
       "        text-align: right;\n",
       "    }\n",
       "</style>\n",
       "<table border=\"1\" class=\"dataframe\">\n",
       "  <thead>\n",
       "    <tr style=\"text-align: right;\">\n",
       "      <th></th>\n",
       "      <th>PDF</th>\n",
       "    </tr>\n",
       "    <tr>\n",
       "      <th>X</th>\n",
       "      <th></th>\n",
       "    </tr>\n",
       "  </thead>\n",
       "  <tbody>\n",
       "    <tr>\n",
       "      <th>2.787615</th>\n",
       "      <td>0.086357</td>\n",
       "    </tr>\n",
       "    <tr>\n",
       "      <th>1.632177</th>\n",
       "      <td>0.114687</td>\n",
       "    </tr>\n",
       "    <tr>\n",
       "      <th>1.994975</th>\n",
       "      <td>0.106601</td>\n",
       "    </tr>\n",
       "    <tr>\n",
       "      <th>0.579750</th>\n",
       "      <td>0.130521</td>\n",
       "    </tr>\n",
       "    <tr>\n",
       "      <th>0.248857</th>\n",
       "      <td>0.132524</td>\n",
       "    </tr>\n",
       "    <tr>\n",
       "      <th>1.124371</th>\n",
       "      <td>0.123961</td>\n",
       "    </tr>\n",
       "    <tr>\n",
       "      <th>0.831135</th>\n",
       "      <td>0.127974</td>\n",
       "    </tr>\n",
       "    <tr>\n",
       "      <th>2.465532</th>\n",
       "      <td>0.094868</td>\n",
       "    </tr>\n",
       "    <tr>\n",
       "      <th>2.648052</th>\n",
       "      <td>0.090075</td>\n",
       "    </tr>\n",
       "    <tr>\n",
       "      <th>2.807160</th>\n",
       "      <td>0.085834</td>\n",
       "    </tr>\n",
       "    <tr>\n",
       "      <th>1.852931</th>\n",
       "      <td>0.109888</td>\n",
       "    </tr>\n",
       "  </tbody>\n",
       "</table>\n",
       "</div>"
      ],
      "text/plain": [
       "               PDF\n",
       "X                 \n",
       "2.787615  0.086357\n",
       "1.632177  0.114687\n",
       "1.994975  0.106601\n",
       "0.579750  0.130521\n",
       "0.248857  0.132524\n",
       "1.124371  0.123961\n",
       "0.831135  0.127974\n",
       "2.465532  0.094868\n",
       "2.648052  0.090075\n",
       "2.807160  0.085834\n",
       "1.852931  0.109888"
      ]
     },
     "execution_count": 89,
     "metadata": {},
     "output_type": "execute_result"
    }
   ],
   "source": [
    "rvs = stats.norm(0,3)\n",
    "x = np.array([2.7876148 , 1.63217734, 1.99497524, 0.57975038, 0.24885666,\n",
    "       1.12437073, 0.83113487, 2.46553164, 2.64805239, 2.80716042,\n",
    "       1.85293077])\n",
    "f = rvs.pdf(x)\n",
    "pd.DataFrame({'X':x, 'PDF':f}).set_index('X')"
   ]
  },
  {
   "cell_type": "code",
   "execution_count": 90,
   "id": "51b20755",
   "metadata": {},
   "outputs": [
    {
     "data": {
      "text/html": [
       "<div>\n",
       "<style scoped>\n",
       "    .dataframe tbody tr th:only-of-type {\n",
       "        vertical-align: middle;\n",
       "    }\n",
       "\n",
       "    .dataframe tbody tr th {\n",
       "        vertical-align: top;\n",
       "    }\n",
       "\n",
       "    .dataframe thead th {\n",
       "        text-align: right;\n",
       "    }\n",
       "</style>\n",
       "<table border=\"1\" class=\"dataframe\">\n",
       "  <thead>\n",
       "    <tr style=\"text-align: right;\">\n",
       "      <th></th>\n",
       "      <th>CDF</th>\n",
       "    </tr>\n",
       "    <tr>\n",
       "      <th>X</th>\n",
       "      <th></th>\n",
       "    </tr>\n",
       "  </thead>\n",
       "  <tbody>\n",
       "    <tr>\n",
       "      <th>2.787615</th>\n",
       "      <td>0.823609</td>\n",
       "    </tr>\n",
       "    <tr>\n",
       "      <th>1.632177</th>\n",
       "      <td>0.706800</td>\n",
       "    </tr>\n",
       "    <tr>\n",
       "      <th>1.994975</th>\n",
       "      <td>0.746972</td>\n",
       "    </tr>\n",
       "    <tr>\n",
       "      <th>0.579750</th>\n",
       "      <td>0.576618</td>\n",
       "    </tr>\n",
       "    <tr>\n",
       "      <th>0.248857</th>\n",
       "      <td>0.533055</td>\n",
       "    </tr>\n",
       "    <tr>\n",
       "      <th>1.124371</th>\n",
       "      <td>0.646092</td>\n",
       "    </tr>\n",
       "    <tr>\n",
       "      <th>0.831135</th>\n",
       "      <td>0.609127</td>\n",
       "    </tr>\n",
       "    <tr>\n",
       "      <th>2.465532</th>\n",
       "      <td>0.794417</td>\n",
       "    </tr>\n",
       "    <tr>\n",
       "      <th>2.648052</th>\n",
       "      <td>0.811297</td>\n",
       "    </tr>\n",
       "    <tr>\n",
       "      <th>2.807160</th>\n",
       "      <td>0.825291</td>\n",
       "    </tr>\n",
       "    <tr>\n",
       "      <th>1.852931</th>\n",
       "      <td>0.731595</td>\n",
       "    </tr>\n",
       "  </tbody>\n",
       "</table>\n",
       "</div>"
      ],
      "text/plain": [
       "               CDF\n",
       "X                 \n",
       "2.787615  0.823609\n",
       "1.632177  0.706800\n",
       "1.994975  0.746972\n",
       "0.579750  0.576618\n",
       "0.248857  0.533055\n",
       "1.124371  0.646092\n",
       "0.831135  0.609127\n",
       "2.465532  0.794417\n",
       "2.648052  0.811297\n",
       "2.807160  0.825291\n",
       "1.852931  0.731595"
      ]
     },
     "execution_count": 90,
     "metadata": {},
     "output_type": "execute_result"
    }
   ],
   "source": [
    "rvs = stats.norm(0,3)\n",
    "x = np.array([2.7876148 , 1.63217734, 1.99497524, 0.57975038, 0.24885666,\n",
    "       1.12437073, 0.83113487, 2.46553164, 2.64805239, 2.80716042,\n",
    "       1.85293077])\n",
    "f = rvs.cdf(x)\n",
    "pd.DataFrame({'X':x, 'CDF':f}).set_index('X')"
   ]
  },
  {
   "cell_type": "markdown",
   "id": "966b1efb",
   "metadata": {},
   "source": [
    "### Exponential Distribution"
   ]
  },
  {
   "cell_type": "code",
   "execution_count": 94,
   "id": "748825a0",
   "metadata": {},
   "outputs": [
    {
     "data": {
      "text/plain": [
       "array([0.84785204, 1.32917174, 1.06328662, 2.1079256 , 0.85406069,\n",
       "       1.63792655, 1.18032754, 0.27954202, 0.64834334, 0.35338841,\n",
       "       1.19750764, 0.28544013, 0.52378093, 2.67688816, 0.24559615])"
      ]
     },
     "execution_count": 94,
     "metadata": {},
     "output_type": "execute_result"
    }
   ],
   "source": [
    "lam = 5\n",
    "X = stats.expon.rvs(1/lam, size = 15)\n",
    "X"
   ]
  },
  {
   "cell_type": "code",
   "execution_count": 96,
   "id": "d8ddf310",
   "metadata": {},
   "outputs": [
    {
     "data": {
      "image/png": "[encoded data removed]",
      "text/plain": [
       "<Figure size 432x288 with 1 Axes>"
      ]
     },
     "metadata": {
      "needs_background": "light"
     },
     "output_type": "display_data"
    }
   ],
   "source": [
    "X = stats.expon.rvs(1/lam, size = (100,5))\n",
    "plt.hist(X,bins='auto', density = True)\n",
    "plt.show()"
   ]
  },
  {
   "cell_type": "code",
   "execution_count": 97,
   "id": "b1fdebb0",
   "metadata": {},
   "outputs": [
    {
     "data": {
      "text/html": [
       "<div>\n",
       "<style scoped>\n",
       "    .dataframe tbody tr th:only-of-type {\n",
       "        vertical-align: middle;\n",
       "    }\n",
       "\n",
       "    .dataframe tbody tr th {\n",
       "        vertical-align: top;\n",
       "    }\n",
       "\n",
       "    .dataframe thead th {\n",
       "        text-align: right;\n",
       "    }\n",
       "</style>\n",
       "<table border=\"1\" class=\"dataframe\">\n",
       "  <thead>\n",
       "    <tr style=\"text-align: right;\">\n",
       "      <th></th>\n",
       "      <th>PDF</th>\n",
       "    </tr>\n",
       "    <tr>\n",
       "      <th>X</th>\n",
       "      <th></th>\n",
       "    </tr>\n",
       "  </thead>\n",
       "  <tbody>\n",
       "    <tr>\n",
       "      <th>2.787615</th>\n",
       "      <td>0.075199</td>\n",
       "    </tr>\n",
       "    <tr>\n",
       "      <th>1.632177</th>\n",
       "      <td>0.238788</td>\n",
       "    </tr>\n",
       "    <tr>\n",
       "      <th>1.994975</th>\n",
       "      <td>0.166132</td>\n",
       "    </tr>\n",
       "    <tr>\n",
       "      <th>0.579750</th>\n",
       "      <td>0.684032</td>\n",
       "    </tr>\n",
       "    <tr>\n",
       "      <th>0.248857</th>\n",
       "      <td>0.952318</td>\n",
       "    </tr>\n",
       "    <tr>\n",
       "      <th>1.124371</th>\n",
       "      <td>0.396781</td>\n",
       "    </tr>\n",
       "    <tr>\n",
       "      <th>0.831135</th>\n",
       "      <td>0.531988</td>\n",
       "    </tr>\n",
       "    <tr>\n",
       "      <th>2.465532</th>\n",
       "      <td>0.103775</td>\n",
       "    </tr>\n",
       "    <tr>\n",
       "      <th>2.648052</th>\n",
       "      <td>0.086462</td>\n",
       "    </tr>\n",
       "    <tr>\n",
       "      <th>2.807160</th>\n",
       "      <td>0.073744</td>\n",
       "    </tr>\n",
       "    <tr>\n",
       "      <th>1.852931</th>\n",
       "      <td>0.191488</td>\n",
       "    </tr>\n",
       "  </tbody>\n",
       "</table>\n",
       "</div>"
      ],
      "text/plain": [
       "               PDF\n",
       "X                 \n",
       "2.787615  0.075199\n",
       "1.632177  0.238788\n",
       "1.994975  0.166132\n",
       "0.579750  0.684032\n",
       "0.248857  0.952318\n",
       "1.124371  0.396781\n",
       "0.831135  0.531988\n",
       "2.465532  0.103775\n",
       "2.648052  0.086462\n",
       "2.807160  0.073744\n",
       "1.852931  0.191488"
      ]
     },
     "execution_count": 97,
     "metadata": {},
     "output_type": "execute_result"
    }
   ],
   "source": [
    "rvs = stats.expon(1/lam)\n",
    "x = np.array([2.7876148 , 1.63217734, 1.99497524, 0.57975038, 0.24885666,\n",
    "       1.12437073, 0.83113487, 2.46553164, 2.64805239, 2.80716042,\n",
    "       1.85293077])\n",
    "f = rvs.pdf(x)\n",
    "pd.DataFrame({'X':x, 'PDF':f}).set_index('X')"
   ]
  },
  {
   "cell_type": "code",
   "execution_count": 99,
   "id": "8d86dd45",
   "metadata": {},
   "outputs": [
    {
     "data": {
      "text/html": [
       "<div>\n",
       "<style scoped>\n",
       "    .dataframe tbody tr th:only-of-type {\n",
       "        vertical-align: middle;\n",
       "    }\n",
       "\n",
       "    .dataframe tbody tr th {\n",
       "        vertical-align: top;\n",
       "    }\n",
       "\n",
       "    .dataframe thead th {\n",
       "        text-align: right;\n",
       "    }\n",
       "</style>\n",
       "<table border=\"1\" class=\"dataframe\">\n",
       "  <thead>\n",
       "    <tr style=\"text-align: right;\">\n",
       "      <th></th>\n",
       "      <th>CDF</th>\n",
       "    </tr>\n",
       "    <tr>\n",
       "      <th>X</th>\n",
       "      <th></th>\n",
       "    </tr>\n",
       "  </thead>\n",
       "  <tbody>\n",
       "    <tr>\n",
       "      <th>2.787615</th>\n",
       "      <td>0.924801</td>\n",
       "    </tr>\n",
       "    <tr>\n",
       "      <th>1.632177</th>\n",
       "      <td>0.761212</td>\n",
       "    </tr>\n",
       "    <tr>\n",
       "      <th>1.994975</th>\n",
       "      <td>0.833868</td>\n",
       "    </tr>\n",
       "    <tr>\n",
       "      <th>0.579750</th>\n",
       "      <td>0.315968</td>\n",
       "    </tr>\n",
       "    <tr>\n",
       "      <th>0.248857</th>\n",
       "      <td>0.047682</td>\n",
       "    </tr>\n",
       "    <tr>\n",
       "      <th>1.124371</th>\n",
       "      <td>0.603219</td>\n",
       "    </tr>\n",
       "    <tr>\n",
       "      <th>0.831135</th>\n",
       "      <td>0.468012</td>\n",
       "    </tr>\n",
       "    <tr>\n",
       "      <th>2.465532</th>\n",
       "      <td>0.896225</td>\n",
       "    </tr>\n",
       "    <tr>\n",
       "      <th>2.648052</th>\n",
       "      <td>0.913538</td>\n",
       "    </tr>\n",
       "    <tr>\n",
       "      <th>2.807160</th>\n",
       "      <td>0.926256</td>\n",
       "    </tr>\n",
       "    <tr>\n",
       "      <th>1.852931</th>\n",
       "      <td>0.808512</td>\n",
       "    </tr>\n",
       "  </tbody>\n",
       "</table>\n",
       "</div>"
      ],
      "text/plain": [
       "               CDF\n",
       "X                 \n",
       "2.787615  0.924801\n",
       "1.632177  0.761212\n",
       "1.994975  0.833868\n",
       "0.579750  0.315968\n",
       "0.248857  0.047682\n",
       "1.124371  0.603219\n",
       "0.831135  0.468012\n",
       "2.465532  0.896225\n",
       "2.648052  0.913538\n",
       "2.807160  0.926256\n",
       "1.852931  0.808512"
      ]
     },
     "execution_count": 99,
     "metadata": {},
     "output_type": "execute_result"
    }
   ],
   "source": [
    "rvs = stats.expon(1/lam)\n",
    "x = np.array([2.7876148 , 1.63217734, 1.99497524, 0.57975038, 0.24885666,\n",
    "       1.12437073, 0.83113487, 2.46553164, 2.64805239, 2.80716042,\n",
    "       1.85293077])\n",
    "f = rvs.cdf(x)\n",
    "pd.DataFrame({'X':x, 'CDF':f}).set_index('X')"
   ]
  },
  {
   "cell_type": "markdown",
   "id": "9f26b524",
   "metadata": {},
   "source": [
    "### Gamma\n",
    "### Weibull\n",
    "###  Cauchy\n",
    "### Logistic\n",
    "### Chi-squared\n",
    "### Lognormal"
   ]
  },
  {
   "cell_type": "code",
   "execution_count": null,
   "id": "3bd67e53",
   "metadata": {},
   "outputs": [],
   "source": []
  }
 ],
 "metadata": {
  "kernelspec": {
   "display_name": "Python 3 (ipykernel)",
   "language": "python",
   "name": "python3"
  },
  "language_info": {
   "codemirror_mode": {
    "name": "ipython",
    "version": 3
   },
   "file_extension": ".py",
   "mimetype": "text/x-python",
   "name": "python",
   "nbconvert_exporter": "python",
   "pygments_lexer": "ipython3",
   "version": "3.9.5"
  }
 },
 "nbformat": 4,
 "nbformat_minor": 5
}
